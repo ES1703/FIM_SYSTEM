{
 "cells": [
  {
   "cell_type": "code",
   "execution_count": 1,
   "metadata": {},
   "outputs": [],
   "source": [
    "import pandas as pd \n",
    "import matplotlib.pyplot as plt\n",
    "import seaborn as sns\n",
    "from scipy.stats import norm, skew\n",
    "import numpy as np\n",
    "import DataPreprocess as DP\n",
    "from scipy import stats\n",
    "from sklearn.metrics import mean_squared_error"
   ]
  },
  {
   "cell_type": "code",
   "execution_count": 2,
   "metadata": {},
   "outputs": [],
   "source": [
    "train = DP.getProcessedData(\"訓練用.csv\")\n"
   ]
  },
  {
   "cell_type": "code",
   "execution_count": 3,
   "metadata": {},
   "outputs": [
    {
     "data": {
      "text/html": [
       "<div>\n",
       "<style scoped>\n",
       "    .dataframe tbody tr th:only-of-type {\n",
       "        vertical-align: middle;\n",
       "    }\n",
       "\n",
       "    .dataframe tbody tr th {\n",
       "        vertical-align: top;\n",
       "    }\n",
       "\n",
       "    .dataframe thead th {\n",
       "        text-align: right;\n",
       "    }\n",
       "</style>\n",
       "<table border=\"1\" class=\"dataframe\">\n",
       "  <thead>\n",
       "    <tr style=\"text-align: right;\">\n",
       "      <th></th>\n",
       "      <th>LandValue</th>\n",
       "      <th>LandHoldArea</th>\n",
       "      <th>BuildPurpose</th>\n",
       "      <th>BuildMaterial</th>\n",
       "      <th>BuildType</th>\n",
       "      <th>BuildLayerArea</th>\n",
       "      <th>BuildComDate</th>\n",
       "      <th>AdjBuildArea</th>\n",
       "      <th>AreaItem</th>\n",
       "      <th>CityItem</th>\n",
       "      <th>AreaRank</th>\n",
       "      <th>TotalArea</th>\n",
       "      <th>AplraiseValue</th>\n",
       "    </tr>\n",
       "  </thead>\n",
       "  <tbody>\n",
       "    <tr>\n",
       "      <th>0</th>\n",
       "      <td>152000</td>\n",
       "      <td>2.90</td>\n",
       "      <td>A</td>\n",
       "      <td>04</td>\n",
       "      <td>R2</td>\n",
       "      <td>12.29</td>\n",
       "      <td>1993</td>\n",
       "      <td>3.22</td>\n",
       "      <td>板橋區</td>\n",
       "      <td>新北市</td>\n",
       "      <td>5</td>\n",
       "      <td>18.41</td>\n",
       "      <td>7821700</td>\n",
       "    </tr>\n",
       "    <tr>\n",
       "      <th>1</th>\n",
       "      <td>151179</td>\n",
       "      <td>3.20</td>\n",
       "      <td>A</td>\n",
       "      <td>04</td>\n",
       "      <td>R2</td>\n",
       "      <td>22.12</td>\n",
       "      <td>1995</td>\n",
       "      <td>3.38</td>\n",
       "      <td>三重區</td>\n",
       "      <td>新北市</td>\n",
       "      <td>5</td>\n",
       "      <td>28.70</td>\n",
       "      <td>12272000</td>\n",
       "    </tr>\n",
       "    <tr>\n",
       "      <th>2</th>\n",
       "      <td>106482</td>\n",
       "      <td>5.11</td>\n",
       "      <td>C</td>\n",
       "      <td>04</td>\n",
       "      <td>R2</td>\n",
       "      <td>28.67</td>\n",
       "      <td>1996</td>\n",
       "      <td>2.81</td>\n",
       "      <td>土城區</td>\n",
       "      <td>新北市</td>\n",
       "      <td>5</td>\n",
       "      <td>36.59</td>\n",
       "      <td>11762800</td>\n",
       "    </tr>\n",
       "    <tr>\n",
       "      <th>3</th>\n",
       "      <td>11800</td>\n",
       "      <td>40.82</td>\n",
       "      <td>A</td>\n",
       "      <td>04</td>\n",
       "      <td>R5</td>\n",
       "      <td>64.43</td>\n",
       "      <td>1993</td>\n",
       "      <td>10.10</td>\n",
       "      <td>南投市</td>\n",
       "      <td>南投縣</td>\n",
       "      <td>1</td>\n",
       "      <td>115.35</td>\n",
       "      <td>4710420</td>\n",
       "    </tr>\n",
       "    <tr>\n",
       "      <th>4</th>\n",
       "      <td>33549</td>\n",
       "      <td>5.54</td>\n",
       "      <td>A</td>\n",
       "      <td>04</td>\n",
       "      <td>R2</td>\n",
       "      <td>23.02</td>\n",
       "      <td>1994</td>\n",
       "      <td>6.87</td>\n",
       "      <td>大寮區</td>\n",
       "      <td>高雄市</td>\n",
       "      <td>3</td>\n",
       "      <td>35.43</td>\n",
       "      <td>3299200</td>\n",
       "    </tr>\n",
       "    <tr>\n",
       "      <th>...</th>\n",
       "      <td>...</td>\n",
       "      <td>...</td>\n",
       "      <td>...</td>\n",
       "      <td>...</td>\n",
       "      <td>...</td>\n",
       "      <td>...</td>\n",
       "      <td>...</td>\n",
       "      <td>...</td>\n",
       "      <td>...</td>\n",
       "      <td>...</td>\n",
       "      <td>...</td>\n",
       "      <td>...</td>\n",
       "      <td>...</td>\n",
       "    </tr>\n",
       "    <tr>\n",
       "      <th>3492</th>\n",
       "      <td>35818</td>\n",
       "      <td>11.70</td>\n",
       "      <td>A</td>\n",
       "      <td>04</td>\n",
       "      <td>R2</td>\n",
       "      <td>66.65</td>\n",
       "      <td>1998</td>\n",
       "      <td>3.88</td>\n",
       "      <td>竹北市</td>\n",
       "      <td>新竹縣</td>\n",
       "      <td>3</td>\n",
       "      <td>82.23</td>\n",
       "      <td>10288500</td>\n",
       "    </tr>\n",
       "    <tr>\n",
       "      <th>3493</th>\n",
       "      <td>20000</td>\n",
       "      <td>23.90</td>\n",
       "      <td>A</td>\n",
       "      <td>08</td>\n",
       "      <td>R5</td>\n",
       "      <td>26.43</td>\n",
       "      <td>1985</td>\n",
       "      <td>2.36</td>\n",
       "      <td>大寮區</td>\n",
       "      <td>高雄市</td>\n",
       "      <td>3</td>\n",
       "      <td>52.69</td>\n",
       "      <td>4494850</td>\n",
       "    </tr>\n",
       "    <tr>\n",
       "      <th>3494</th>\n",
       "      <td>123000</td>\n",
       "      <td>2.11</td>\n",
       "      <td>A</td>\n",
       "      <td>04</td>\n",
       "      <td>R2</td>\n",
       "      <td>17.24</td>\n",
       "      <td>2004</td>\n",
       "      <td>1.55</td>\n",
       "      <td>新莊區</td>\n",
       "      <td>新北市</td>\n",
       "      <td>5</td>\n",
       "      <td>20.90</td>\n",
       "      <td>6507800</td>\n",
       "    </tr>\n",
       "    <tr>\n",
       "      <th>3495</th>\n",
       "      <td>148000</td>\n",
       "      <td>5.32</td>\n",
       "      <td>B</td>\n",
       "      <td>04</td>\n",
       "      <td>R1</td>\n",
       "      <td>23.27</td>\n",
       "      <td>1980</td>\n",
       "      <td>0.00</td>\n",
       "      <td>新莊區</td>\n",
       "      <td>新北市</td>\n",
       "      <td>5</td>\n",
       "      <td>28.59</td>\n",
       "      <td>10006100</td>\n",
       "    </tr>\n",
       "    <tr>\n",
       "      <th>3496</th>\n",
       "      <td>210000</td>\n",
       "      <td>11.83</td>\n",
       "      <td>A</td>\n",
       "      <td>04</td>\n",
       "      <td>R2</td>\n",
       "      <td>30.94</td>\n",
       "      <td>1995</td>\n",
       "      <td>3.75</td>\n",
       "      <td>北投區</td>\n",
       "      <td>台北市</td>\n",
       "      <td>6</td>\n",
       "      <td>46.52</td>\n",
       "      <td>19584000</td>\n",
       "    </tr>\n",
       "  </tbody>\n",
       "</table>\n",
       "<p>3497 rows × 13 columns</p>\n",
       "</div>"
      ],
      "text/plain": [
       "      LandValue  LandHoldArea BuildPurpose BuildMaterial BuildType  \\\n",
       "0        152000          2.90            A            04        R2   \n",
       "1        151179          3.20            A            04        R2   \n",
       "2        106482          5.11            C            04        R2   \n",
       "3         11800         40.82            A            04        R5   \n",
       "4         33549          5.54            A            04        R2   \n",
       "...         ...           ...          ...           ...       ...   \n",
       "3492      35818         11.70            A            04        R2   \n",
       "3493      20000         23.90            A            08        R5   \n",
       "3494     123000          2.11            A            04        R2   \n",
       "3495     148000          5.32            B            04        R1   \n",
       "3496     210000         11.83            A            04        R2   \n",
       "\n",
       "      BuildLayerArea BuildComDate  AdjBuildArea AreaItem CityItem  AreaRank  \\\n",
       "0              12.29         1993          3.22      板橋區      新北市         5   \n",
       "1              22.12         1995          3.38      三重區      新北市         5   \n",
       "2              28.67         1996          2.81      土城區      新北市         5   \n",
       "3              64.43         1993         10.10      南投市      南投縣         1   \n",
       "4              23.02         1994          6.87      大寮區      高雄市         3   \n",
       "...              ...          ...           ...      ...      ...       ...   \n",
       "3492           66.65         1998          3.88      竹北市      新竹縣         3   \n",
       "3493           26.43         1985          2.36      大寮區      高雄市         3   \n",
       "3494           17.24         2004          1.55      新莊區      新北市         5   \n",
       "3495           23.27         1980          0.00      新莊區      新北市         5   \n",
       "3496           30.94         1995          3.75      北投區      台北市         6   \n",
       "\n",
       "      TotalArea AplraiseValue  \n",
       "0         18.41       7821700  \n",
       "1         28.70      12272000  \n",
       "2         36.59      11762800  \n",
       "3        115.35       4710420  \n",
       "4         35.43       3299200  \n",
       "...         ...           ...  \n",
       "3492      82.23      10288500  \n",
       "3493      52.69       4494850  \n",
       "3494      20.90       6507800  \n",
       "3495      28.59      10006100  \n",
       "3496      46.52      19584000  \n",
       "\n",
       "[3497 rows x 13 columns]"
      ]
     },
     "execution_count": 3,
     "metadata": {},
     "output_type": "execute_result"
    }
   ],
   "source": [
    "train"
   ]
  },
  {
   "cell_type": "code",
   "execution_count": 4,
   "metadata": {},
   "outputs": [
    {
     "data": {
      "text/html": [
       "<div>\n",
       "<style scoped>\n",
       "    .dataframe tbody tr th:only-of-type {\n",
       "        vertical-align: middle;\n",
       "    }\n",
       "\n",
       "    .dataframe tbody tr th {\n",
       "        vertical-align: top;\n",
       "    }\n",
       "\n",
       "    .dataframe thead th {\n",
       "        text-align: right;\n",
       "    }\n",
       "</style>\n",
       "<table border=\"1\" class=\"dataframe\">\n",
       "  <thead>\n",
       "    <tr style=\"text-align: right;\">\n",
       "      <th></th>\n",
       "      <th>Missing Ratio of train data</th>\n",
       "    </tr>\n",
       "  </thead>\n",
       "  <tbody>\n",
       "    <tr>\n",
       "      <th>BuildComDate</th>\n",
       "      <td>0.028596</td>\n",
       "    </tr>\n",
       "    <tr>\n",
       "      <th>BuildMaterial</th>\n",
       "      <td>0.028596</td>\n",
       "    </tr>\n",
       "    <tr>\n",
       "      <th>BuildPurpose</th>\n",
       "      <td>0.028596</td>\n",
       "    </tr>\n",
       "  </tbody>\n",
       "</table>\n",
       "</div>"
      ],
      "text/plain": [
       "               Missing Ratio of train data\n",
       "BuildComDate                      0.028596\n",
       "BuildMaterial                     0.028596\n",
       "BuildPurpose                      0.028596"
      ]
     },
     "execution_count": 4,
     "metadata": {},
     "output_type": "execute_result"
    }
   ],
   "source": [
    "#查看遺失值及遺失率\n",
    "train_data_na = (train.isnull().sum() / len(train)) * 100\n",
    "train_data_na = train_data_na.drop(train_data_na[train_data_na == 0].index).sort_values(ascending=False)[:]\n",
    "missing_data = pd.DataFrame({'Missing Ratio of train data' :train_data_na})\n",
    "missing_data.head(10)"
   ]
  },
  {
   "cell_type": "code",
   "execution_count": 5,
   "metadata": {
    "scrolled": false
   },
   "outputs": [
    {
     "data": {
      "text/html": [
       "<div>\n",
       "<style scoped>\n",
       "    .dataframe tbody tr th:only-of-type {\n",
       "        vertical-align: middle;\n",
       "    }\n",
       "\n",
       "    .dataframe tbody tr th {\n",
       "        vertical-align: top;\n",
       "    }\n",
       "\n",
       "    .dataframe thead th {\n",
       "        text-align: right;\n",
       "    }\n",
       "</style>\n",
       "<table border=\"1\" class=\"dataframe\">\n",
       "  <thead>\n",
       "    <tr style=\"text-align: right;\">\n",
       "      <th></th>\n",
       "      <th>LandValue</th>\n",
       "      <th>LandHoldArea</th>\n",
       "      <th>BuildPurpose</th>\n",
       "      <th>BuildMaterial</th>\n",
       "      <th>BuildType</th>\n",
       "      <th>BuildLayerArea</th>\n",
       "      <th>BuildComDate</th>\n",
       "      <th>AdjBuildArea</th>\n",
       "      <th>AreaItem</th>\n",
       "      <th>CityItem</th>\n",
       "      <th>AreaRank</th>\n",
       "      <th>TotalArea</th>\n",
       "      <th>AplraiseValue</th>\n",
       "    </tr>\n",
       "  </thead>\n",
       "  <tbody>\n",
       "    <tr>\n",
       "      <th>3434</th>\n",
       "      <td>0</td>\n",
       "      <td>6.2</td>\n",
       "      <td>NaN</td>\n",
       "      <td>NaN</td>\n",
       "      <td>R2</td>\n",
       "      <td>39.33</td>\n",
       "      <td>NaN</td>\n",
       "      <td>0.0</td>\n",
       "      <td>左營區</td>\n",
       "      <td>高雄市</td>\n",
       "      <td>3</td>\n",
       "      <td>45.53</td>\n",
       "      <td>0</td>\n",
       "    </tr>\n",
       "  </tbody>\n",
       "</table>\n",
       "</div>"
      ],
      "text/plain": [
       "      LandValue  LandHoldArea BuildPurpose BuildMaterial BuildType  \\\n",
       "3434          0           6.2          NaN           NaN        R2   \n",
       "\n",
       "      BuildLayerArea BuildComDate  AdjBuildArea AreaItem CityItem  AreaRank  \\\n",
       "3434           39.33          NaN           0.0      左營區      高雄市         3   \n",
       "\n",
       "      TotalArea AplraiseValue  \n",
       "3434      45.53             0  "
      ]
     },
     "execution_count": 5,
     "metadata": {},
     "output_type": "execute_result"
    }
   ],
   "source": [
    "#找出遺失值所在欄物並觀察\n",
    "ind = train[train[\"BuildMaterial\"].isnull()].index\n",
    "\n",
    "train.iloc[ind]\n"
   ]
  },
  {
   "cell_type": "code",
   "execution_count": 6,
   "metadata": {},
   "outputs": [],
   "source": [
    "#刪除第3434列\n",
    "train.drop(ind,inplace=True)\n",
    "train.reset_index(drop = True , inplace = True)"
   ]
  },
  {
   "cell_type": "code",
   "execution_count": 7,
   "metadata": {},
   "outputs": [
    {
     "data": {
      "text/html": [
       "<div>\n",
       "<style scoped>\n",
       "    .dataframe tbody tr th:only-of-type {\n",
       "        vertical-align: middle;\n",
       "    }\n",
       "\n",
       "    .dataframe tbody tr th {\n",
       "        vertical-align: top;\n",
       "    }\n",
       "\n",
       "    .dataframe thead th {\n",
       "        text-align: right;\n",
       "    }\n",
       "</style>\n",
       "<table border=\"1\" class=\"dataframe\">\n",
       "  <thead>\n",
       "    <tr style=\"text-align: right;\">\n",
       "      <th></th>\n",
       "      <th>LandValue</th>\n",
       "      <th>LandHoldArea</th>\n",
       "      <th>BuildPurpose</th>\n",
       "      <th>BuildMaterial</th>\n",
       "      <th>BuildType</th>\n",
       "      <th>BuildLayerArea</th>\n",
       "      <th>BuildComDate</th>\n",
       "      <th>AdjBuildArea</th>\n",
       "      <th>AreaItem</th>\n",
       "      <th>CityItem</th>\n",
       "      <th>AreaRank</th>\n",
       "      <th>TotalArea</th>\n",
       "      <th>AplraiseValue</th>\n",
       "    </tr>\n",
       "  </thead>\n",
       "  <tbody>\n",
       "    <tr>\n",
       "      <th>0</th>\n",
       "      <td>152000</td>\n",
       "      <td>2.90</td>\n",
       "      <td>A</td>\n",
       "      <td>04</td>\n",
       "      <td>R2</td>\n",
       "      <td>12.29</td>\n",
       "      <td>1993</td>\n",
       "      <td>3.22</td>\n",
       "      <td>板橋區</td>\n",
       "      <td>新北市</td>\n",
       "      <td>5</td>\n",
       "      <td>18.41</td>\n",
       "      <td>7821700</td>\n",
       "    </tr>\n",
       "    <tr>\n",
       "      <th>1</th>\n",
       "      <td>151179</td>\n",
       "      <td>3.20</td>\n",
       "      <td>A</td>\n",
       "      <td>04</td>\n",
       "      <td>R2</td>\n",
       "      <td>22.12</td>\n",
       "      <td>1995</td>\n",
       "      <td>3.38</td>\n",
       "      <td>三重區</td>\n",
       "      <td>新北市</td>\n",
       "      <td>5</td>\n",
       "      <td>28.70</td>\n",
       "      <td>12272000</td>\n",
       "    </tr>\n",
       "    <tr>\n",
       "      <th>2</th>\n",
       "      <td>106482</td>\n",
       "      <td>5.11</td>\n",
       "      <td>C</td>\n",
       "      <td>04</td>\n",
       "      <td>R2</td>\n",
       "      <td>28.67</td>\n",
       "      <td>1996</td>\n",
       "      <td>2.81</td>\n",
       "      <td>土城區</td>\n",
       "      <td>新北市</td>\n",
       "      <td>5</td>\n",
       "      <td>36.59</td>\n",
       "      <td>11762800</td>\n",
       "    </tr>\n",
       "    <tr>\n",
       "      <th>3</th>\n",
       "      <td>11800</td>\n",
       "      <td>40.82</td>\n",
       "      <td>A</td>\n",
       "      <td>04</td>\n",
       "      <td>R5</td>\n",
       "      <td>64.43</td>\n",
       "      <td>1993</td>\n",
       "      <td>10.10</td>\n",
       "      <td>南投市</td>\n",
       "      <td>南投縣</td>\n",
       "      <td>1</td>\n",
       "      <td>115.35</td>\n",
       "      <td>4710420</td>\n",
       "    </tr>\n",
       "    <tr>\n",
       "      <th>4</th>\n",
       "      <td>33549</td>\n",
       "      <td>5.54</td>\n",
       "      <td>A</td>\n",
       "      <td>04</td>\n",
       "      <td>R2</td>\n",
       "      <td>23.02</td>\n",
       "      <td>1994</td>\n",
       "      <td>6.87</td>\n",
       "      <td>大寮區</td>\n",
       "      <td>高雄市</td>\n",
       "      <td>3</td>\n",
       "      <td>35.43</td>\n",
       "      <td>3299200</td>\n",
       "    </tr>\n",
       "    <tr>\n",
       "      <th>...</th>\n",
       "      <td>...</td>\n",
       "      <td>...</td>\n",
       "      <td>...</td>\n",
       "      <td>...</td>\n",
       "      <td>...</td>\n",
       "      <td>...</td>\n",
       "      <td>...</td>\n",
       "      <td>...</td>\n",
       "      <td>...</td>\n",
       "      <td>...</td>\n",
       "      <td>...</td>\n",
       "      <td>...</td>\n",
       "      <td>...</td>\n",
       "    </tr>\n",
       "    <tr>\n",
       "      <th>3491</th>\n",
       "      <td>35818</td>\n",
       "      <td>11.70</td>\n",
       "      <td>A</td>\n",
       "      <td>04</td>\n",
       "      <td>R2</td>\n",
       "      <td>66.65</td>\n",
       "      <td>1998</td>\n",
       "      <td>3.88</td>\n",
       "      <td>竹北市</td>\n",
       "      <td>新竹縣</td>\n",
       "      <td>3</td>\n",
       "      <td>82.23</td>\n",
       "      <td>10288500</td>\n",
       "    </tr>\n",
       "    <tr>\n",
       "      <th>3492</th>\n",
       "      <td>20000</td>\n",
       "      <td>23.90</td>\n",
       "      <td>A</td>\n",
       "      <td>08</td>\n",
       "      <td>R5</td>\n",
       "      <td>26.43</td>\n",
       "      <td>1985</td>\n",
       "      <td>2.36</td>\n",
       "      <td>大寮區</td>\n",
       "      <td>高雄市</td>\n",
       "      <td>3</td>\n",
       "      <td>52.69</td>\n",
       "      <td>4494850</td>\n",
       "    </tr>\n",
       "    <tr>\n",
       "      <th>3493</th>\n",
       "      <td>123000</td>\n",
       "      <td>2.11</td>\n",
       "      <td>A</td>\n",
       "      <td>04</td>\n",
       "      <td>R2</td>\n",
       "      <td>17.24</td>\n",
       "      <td>2004</td>\n",
       "      <td>1.55</td>\n",
       "      <td>新莊區</td>\n",
       "      <td>新北市</td>\n",
       "      <td>5</td>\n",
       "      <td>20.90</td>\n",
       "      <td>6507800</td>\n",
       "    </tr>\n",
       "    <tr>\n",
       "      <th>3494</th>\n",
       "      <td>148000</td>\n",
       "      <td>5.32</td>\n",
       "      <td>B</td>\n",
       "      <td>04</td>\n",
       "      <td>R1</td>\n",
       "      <td>23.27</td>\n",
       "      <td>1980</td>\n",
       "      <td>0.00</td>\n",
       "      <td>新莊區</td>\n",
       "      <td>新北市</td>\n",
       "      <td>5</td>\n",
       "      <td>28.59</td>\n",
       "      <td>10006100</td>\n",
       "    </tr>\n",
       "    <tr>\n",
       "      <th>3495</th>\n",
       "      <td>210000</td>\n",
       "      <td>11.83</td>\n",
       "      <td>A</td>\n",
       "      <td>04</td>\n",
       "      <td>R2</td>\n",
       "      <td>30.94</td>\n",
       "      <td>1995</td>\n",
       "      <td>3.75</td>\n",
       "      <td>北投區</td>\n",
       "      <td>台北市</td>\n",
       "      <td>6</td>\n",
       "      <td>46.52</td>\n",
       "      <td>19584000</td>\n",
       "    </tr>\n",
       "  </tbody>\n",
       "</table>\n",
       "<p>3496 rows × 13 columns</p>\n",
       "</div>"
      ],
      "text/plain": [
       "      LandValue  LandHoldArea BuildPurpose BuildMaterial BuildType  \\\n",
       "0        152000          2.90            A            04        R2   \n",
       "1        151179          3.20            A            04        R2   \n",
       "2        106482          5.11            C            04        R2   \n",
       "3         11800         40.82            A            04        R5   \n",
       "4         33549          5.54            A            04        R2   \n",
       "...         ...           ...          ...           ...       ...   \n",
       "3491      35818         11.70            A            04        R2   \n",
       "3492      20000         23.90            A            08        R5   \n",
       "3493     123000          2.11            A            04        R2   \n",
       "3494     148000          5.32            B            04        R1   \n",
       "3495     210000         11.83            A            04        R2   \n",
       "\n",
       "      BuildLayerArea BuildComDate  AdjBuildArea AreaItem CityItem  AreaRank  \\\n",
       "0              12.29         1993          3.22      板橋區      新北市         5   \n",
       "1              22.12         1995          3.38      三重區      新北市         5   \n",
       "2              28.67         1996          2.81      土城區      新北市         5   \n",
       "3              64.43         1993         10.10      南投市      南投縣         1   \n",
       "4              23.02         1994          6.87      大寮區      高雄市         3   \n",
       "...              ...          ...           ...      ...      ...       ...   \n",
       "3491           66.65         1998          3.88      竹北市      新竹縣         3   \n",
       "3492           26.43         1985          2.36      大寮區      高雄市         3   \n",
       "3493           17.24         2004          1.55      新莊區      新北市         5   \n",
       "3494           23.27         1980          0.00      新莊區      新北市         5   \n",
       "3495           30.94         1995          3.75      北投區      台北市         6   \n",
       "\n",
       "      TotalArea AplraiseValue  \n",
       "0         18.41       7821700  \n",
       "1         28.70      12272000  \n",
       "2         36.59      11762800  \n",
       "3        115.35       4710420  \n",
       "4         35.43       3299200  \n",
       "...         ...           ...  \n",
       "3491      82.23      10288500  \n",
       "3492      52.69       4494850  \n",
       "3493      20.90       6507800  \n",
       "3494      28.59      10006100  \n",
       "3495      46.52      19584000  \n",
       "\n",
       "[3496 rows x 13 columns]"
      ]
     },
     "execution_count": 7,
     "metadata": {},
     "output_type": "execute_result"
    }
   ],
   "source": [
    "train"
   ]
  },
  {
   "cell_type": "code",
   "execution_count": 8,
   "metadata": {},
   "outputs": [],
   "source": [
    "test = DP.getProcessedData(\"驗證用.csv\")"
   ]
  },
  {
   "cell_type": "code",
   "execution_count": 9,
   "metadata": {},
   "outputs": [
    {
     "data": {
      "text/html": [
       "<div>\n",
       "<style scoped>\n",
       "    .dataframe tbody tr th:only-of-type {\n",
       "        vertical-align: middle;\n",
       "    }\n",
       "\n",
       "    .dataframe tbody tr th {\n",
       "        vertical-align: top;\n",
       "    }\n",
       "\n",
       "    .dataframe thead th {\n",
       "        text-align: right;\n",
       "    }\n",
       "</style>\n",
       "<table border=\"1\" class=\"dataframe\">\n",
       "  <thead>\n",
       "    <tr style=\"text-align: right;\">\n",
       "      <th></th>\n",
       "      <th>Missing Ratio</th>\n",
       "    </tr>\n",
       "  </thead>\n",
       "  <tbody>\n",
       "  </tbody>\n",
       "</table>\n",
       "</div>"
      ],
      "text/plain": [
       "Empty DataFrame\n",
       "Columns: [Missing Ratio]\n",
       "Index: []"
      ]
     },
     "execution_count": 9,
     "metadata": {},
     "output_type": "execute_result"
    }
   ],
   "source": [
    "test_data_na = (test.isnull().sum() / len(test)) * 100\n",
    "test_data_na = test_data_na.drop(test_data_na[test_data_na == 0].index).sort_values(ascending=False)[:]\n",
    "missing_data = pd.DataFrame({'Missing Ratio' :test_data_na})\n",
    "missing_data.head(10)"
   ]
  },
  {
   "cell_type": "code",
   "execution_count": 10,
   "metadata": {
    "scrolled": false
   },
   "outputs": [
    {
     "data": {
      "text/html": [
       "<div>\n",
       "<style scoped>\n",
       "    .dataframe tbody tr th:only-of-type {\n",
       "        vertical-align: middle;\n",
       "    }\n",
       "\n",
       "    .dataframe tbody tr th {\n",
       "        vertical-align: top;\n",
       "    }\n",
       "\n",
       "    .dataframe thead th {\n",
       "        text-align: right;\n",
       "    }\n",
       "</style>\n",
       "<table border=\"1\" class=\"dataframe\">\n",
       "  <thead>\n",
       "    <tr style=\"text-align: right;\">\n",
       "      <th></th>\n",
       "      <th>LandValue</th>\n",
       "      <th>LandHoldArea</th>\n",
       "      <th>BuildPurpose</th>\n",
       "      <th>BuildMaterial</th>\n",
       "      <th>BuildType</th>\n",
       "      <th>BuildLayerArea</th>\n",
       "      <th>BuildComDate</th>\n",
       "      <th>AdjBuildArea</th>\n",
       "      <th>AreaItem</th>\n",
       "      <th>CityItem</th>\n",
       "      <th>AreaRank</th>\n",
       "      <th>TotalArea</th>\n",
       "      <th>AplraiseValue</th>\n",
       "    </tr>\n",
       "  </thead>\n",
       "  <tbody>\n",
       "    <tr>\n",
       "      <th>0</th>\n",
       "      <td>73000</td>\n",
       "      <td>30.60</td>\n",
       "      <td>A</td>\n",
       "      <td>11</td>\n",
       "      <td>R2</td>\n",
       "      <td>59.76</td>\n",
       "      <td>2014</td>\n",
       "      <td>5.84</td>\n",
       "      <td>西屯區</td>\n",
       "      <td>台中市</td>\n",
       "      <td>3</td>\n",
       "      <td>96.20</td>\n",
       "      <td>22432000</td>\n",
       "    </tr>\n",
       "    <tr>\n",
       "      <th>1</th>\n",
       "      <td>51900</td>\n",
       "      <td>27.17</td>\n",
       "      <td>Z</td>\n",
       "      <td>4</td>\n",
       "      <td>R5</td>\n",
       "      <td>57.55</td>\n",
       "      <td>2015</td>\n",
       "      <td>3.55</td>\n",
       "      <td>北屯區</td>\n",
       "      <td>台中市</td>\n",
       "      <td>3</td>\n",
       "      <td>88.27</td>\n",
       "      <td>15332200</td>\n",
       "    </tr>\n",
       "    <tr>\n",
       "      <th>2</th>\n",
       "      <td>53700</td>\n",
       "      <td>13.91</td>\n",
       "      <td>A</td>\n",
       "      <td>8</td>\n",
       "      <td>R5</td>\n",
       "      <td>38.66</td>\n",
       "      <td>1974</td>\n",
       "      <td>0.00</td>\n",
       "      <td>平鎮區</td>\n",
       "      <td>桃園市</td>\n",
       "      <td>3</td>\n",
       "      <td>52.57</td>\n",
       "      <td>11831040</td>\n",
       "    </tr>\n",
       "    <tr>\n",
       "      <th>3</th>\n",
       "      <td>209000</td>\n",
       "      <td>16.87</td>\n",
       "      <td>A</td>\n",
       "      <td>4</td>\n",
       "      <td>R1</td>\n",
       "      <td>27.01</td>\n",
       "      <td>1973</td>\n",
       "      <td>3.38</td>\n",
       "      <td>北投區</td>\n",
       "      <td>台北市</td>\n",
       "      <td>6</td>\n",
       "      <td>47.26</td>\n",
       "      <td>12763800</td>\n",
       "    </tr>\n",
       "    <tr>\n",
       "      <th>4</th>\n",
       "      <td>54258</td>\n",
       "      <td>3.31</td>\n",
       "      <td>A</td>\n",
       "      <td>4</td>\n",
       "      <td>R2</td>\n",
       "      <td>25.49</td>\n",
       "      <td>1994</td>\n",
       "      <td>3.15</td>\n",
       "      <td>永康區</td>\n",
       "      <td>台南市</td>\n",
       "      <td>3</td>\n",
       "      <td>31.95</td>\n",
       "      <td>4194280</td>\n",
       "    </tr>\n",
       "    <tr>\n",
       "      <th>...</th>\n",
       "      <td>...</td>\n",
       "      <td>...</td>\n",
       "      <td>...</td>\n",
       "      <td>...</td>\n",
       "      <td>...</td>\n",
       "      <td>...</td>\n",
       "      <td>...</td>\n",
       "      <td>...</td>\n",
       "      <td>...</td>\n",
       "      <td>...</td>\n",
       "      <td>...</td>\n",
       "      <td>...</td>\n",
       "      <td>...</td>\n",
       "    </tr>\n",
       "    <tr>\n",
       "      <th>880</th>\n",
       "      <td>75100</td>\n",
       "      <td>44.75</td>\n",
       "      <td>H</td>\n",
       "      <td>4</td>\n",
       "      <td>R5</td>\n",
       "      <td>61.13</td>\n",
       "      <td>1985</td>\n",
       "      <td>8.20</td>\n",
       "      <td>土城區</td>\n",
       "      <td>新北市</td>\n",
       "      <td>5</td>\n",
       "      <td>114.08</td>\n",
       "      <td>28236600</td>\n",
       "    </tr>\n",
       "    <tr>\n",
       "      <th>881</th>\n",
       "      <td>89600</td>\n",
       "      <td>10.89</td>\n",
       "      <td>A</td>\n",
       "      <td>8</td>\n",
       "      <td>R1</td>\n",
       "      <td>16.52</td>\n",
       "      <td>1977</td>\n",
       "      <td>0.00</td>\n",
       "      <td>汐止區</td>\n",
       "      <td>新北市</td>\n",
       "      <td>4</td>\n",
       "      <td>27.41</td>\n",
       "      <td>3964800</td>\n",
       "    </tr>\n",
       "    <tr>\n",
       "      <th>882</th>\n",
       "      <td>89900</td>\n",
       "      <td>32.97</td>\n",
       "      <td>Z</td>\n",
       "      <td>4</td>\n",
       "      <td>R5</td>\n",
       "      <td>109.52</td>\n",
       "      <td>1989</td>\n",
       "      <td>0.00</td>\n",
       "      <td>桃園區</td>\n",
       "      <td>桃園市</td>\n",
       "      <td>3</td>\n",
       "      <td>142.49</td>\n",
       "      <td>19334800</td>\n",
       "    </tr>\n",
       "    <tr>\n",
       "      <th>883</th>\n",
       "      <td>61500</td>\n",
       "      <td>39.57</td>\n",
       "      <td>F</td>\n",
       "      <td>4</td>\n",
       "      <td>R5</td>\n",
       "      <td>78.58</td>\n",
       "      <td>1989</td>\n",
       "      <td>8.33</td>\n",
       "      <td>西屯區</td>\n",
       "      <td>台中市</td>\n",
       "      <td>3</td>\n",
       "      <td>126.48</td>\n",
       "      <td>16587165</td>\n",
       "    </tr>\n",
       "    <tr>\n",
       "      <th>884</th>\n",
       "      <td>146214</td>\n",
       "      <td>6.13</td>\n",
       "      <td>A</td>\n",
       "      <td>4</td>\n",
       "      <td>R2</td>\n",
       "      <td>35.16</td>\n",
       "      <td>2000</td>\n",
       "      <td>4.58</td>\n",
       "      <td>三重區</td>\n",
       "      <td>新北市</td>\n",
       "      <td>5</td>\n",
       "      <td>45.87</td>\n",
       "      <td>22000400</td>\n",
       "    </tr>\n",
       "  </tbody>\n",
       "</table>\n",
       "<p>885 rows × 13 columns</p>\n",
       "</div>"
      ],
      "text/plain": [
       "     LandValue  LandHoldArea BuildPurpose BuildMaterial BuildType  \\\n",
       "0        73000         30.60            A            11        R2   \n",
       "1        51900         27.17            Z             4        R5   \n",
       "2        53700         13.91            A             8        R5   \n",
       "3       209000         16.87            A             4        R1   \n",
       "4        54258          3.31            A             4        R2   \n",
       "..         ...           ...          ...           ...       ...   \n",
       "880      75100         44.75            H             4        R5   \n",
       "881      89600         10.89            A             8        R1   \n",
       "882      89900         32.97            Z             4        R5   \n",
       "883      61500         39.57            F             4        R5   \n",
       "884     146214          6.13            A             4        R2   \n",
       "\n",
       "     BuildLayerArea BuildComDate  AdjBuildArea AreaItem CityItem  AreaRank  \\\n",
       "0             59.76         2014          5.84      西屯區      台中市         3   \n",
       "1             57.55         2015          3.55      北屯區      台中市         3   \n",
       "2             38.66         1974          0.00      平鎮區      桃園市         3   \n",
       "3             27.01         1973          3.38      北投區      台北市         6   \n",
       "4             25.49         1994          3.15      永康區      台南市         3   \n",
       "..              ...          ...           ...      ...      ...       ...   \n",
       "880           61.13         1985          8.20      土城區      新北市         5   \n",
       "881           16.52         1977          0.00      汐止區      新北市         4   \n",
       "882          109.52         1989          0.00      桃園區      桃園市         3   \n",
       "883           78.58         1989          8.33      西屯區      台中市         3   \n",
       "884           35.16         2000          4.58      三重區      新北市         5   \n",
       "\n",
       "     TotalArea AplraiseValue  \n",
       "0        96.20      22432000  \n",
       "1        88.27      15332200  \n",
       "2        52.57      11831040  \n",
       "3        47.26      12763800  \n",
       "4        31.95       4194280  \n",
       "..         ...           ...  \n",
       "880     114.08      28236600  \n",
       "881      27.41       3964800  \n",
       "882     142.49      19334800  \n",
       "883     126.48      16587165  \n",
       "884      45.87      22000400  \n",
       "\n",
       "[885 rows x 13 columns]"
      ]
     },
     "execution_count": 10,
     "metadata": {},
     "output_type": "execute_result"
    }
   ],
   "source": [
    "test"
   ]
  },
  {
   "cell_type": "code",
   "execution_count": 11,
   "metadata": {
    "scrolled": false
   },
   "outputs": [
    {
     "data": {
      "image/png": "[encoded data removed]",
      "text/plain": [
       "<Figure size 432x288 with 1 Axes>"
      ]
     },
     "metadata": {
      "needs_background": "light"
     },
     "output_type": "display_data"
    },
    {
     "data": {
      "image/png": "[encoded data removed]",
      "text/plain": [
       "<Figure size 432x288 with 1 Axes>"
      ]
     },
     "metadata": {
      "needs_background": "light"
     },
     "output_type": "display_data"
    }
   ],
   "source": [
    "fig, ax = plt.subplots()\n",
    "ax.scatter(train['TotalArea'], train['AplraiseValue'])\n",
    "plt.ylabel('Price', fontsize=13)\n",
    "plt.xlabel('Area', fontsize=13)\n",
    "plt.show()\n",
    "\n",
    "#刪除面積大於750及價格小於一億的資料\n",
    "train = train.drop(train[(train['TotalArea']>750) & (train['AplraiseValue']<100000000)].index)\n",
    "train = train.drop(train[train['AplraiseValue']== 0].index)\n",
    "\n",
    "fig, ax = plt.subplots()\n",
    "ax.scatter(train['TotalArea'], train['AplraiseValue'])\n",
    "plt.ylabel('Price', fontsize=13)\n",
    "plt.xlabel('Area', fontsize=13)\n",
    "plt.show()\n"
   ]
  },
  {
   "cell_type": "code",
   "execution_count": 12,
   "metadata": {
    "scrolled": false
   },
   "outputs": [
    {
     "name": "stderr",
     "output_type": "stream",
     "text": [
      "C:\\Users\\fb6587\\Anaconda3\\lib\\site-packages\\seaborn\\distributions.py:2551: FutureWarning: `distplot` is a deprecated function and will be removed in a future version. Please adapt your code to use either `displot` (a figure-level function with similar flexibility) or `histplot` (an axes-level function for histograms).\n",
      "  warnings.warn(msg, FutureWarning)\n"
     ]
    },
    {
     "name": "stdout",
     "output_type": "stream",
     "text": [
      "\n",
      " mu = 9636760.66 and sigma = 16456604.34\n",
      "\n"
     ]
    },
    {
     "data": {
      "image/png": "[encoded data removed]",
      "text/plain": [
       "<Figure size 432x288 with 1 Axes>"
      ]
     },
     "metadata": {
      "needs_background": "light"
     },
     "output_type": "display_data"
    },
    {
     "data": {
      "text/plain": [
       "<Figure size 432x288 with 0 Axes>"
      ]
     },
     "metadata": {},
     "output_type": "display_data"
    }
   ],
   "source": [
    "train[\"AplraiseValue\"] = train[\"AplraiseValue\"].astype('float64')\n",
    "sns.distplot(train['AplraiseValue'],kde = False , fit=norm);\n",
    "\n",
    "# Get the fitted parameters used by the function\n",
    "(mu, sigma) = norm.fit(train['AplraiseValue'])\n",
    "print( '\\n mu = {:.2f} and sigma = {:.2f}\\n'.format(mu, sigma))\n",
    "\n",
    "#Now plot the distribution\n",
    "plt.legend(['Normal dist. ($\\mu=$ {:.2f} and $\\sigma=$ {:.2f} )'.format(mu, sigma)],\n",
    "            loc='best')\n",
    "plt.ylabel('Frequency')\n",
    "plt.title('AplraiseValue distribution')\n",
    "\n",
    "fig = plt.figure()\n",
    "# res = stats.probplot(train['AplraiseValue'], plot=plt)\n",
    "plt.show()"
   ]
  },
  {
   "cell_type": "code",
   "execution_count": 13,
   "metadata": {},
   "outputs": [
    {
     "data": {
      "text/plain": [
       "886830150.0"
      ]
     },
     "execution_count": 13,
     "metadata": {},
     "output_type": "execute_result"
    }
   ],
   "source": [
    "train[\"AplraiseValue\"].max()"
   ]
  },
  {
   "cell_type": "code",
   "execution_count": 14,
   "metadata": {},
   "outputs": [
    {
     "data": {
      "text/plain": [
       "1078350.0"
      ]
     },
     "execution_count": 14,
     "metadata": {},
     "output_type": "execute_result"
    }
   ],
   "source": [
    "train[\"AplraiseValue\"].min()"
   ]
  },
  {
   "cell_type": "code",
   "execution_count": 15,
   "metadata": {},
   "outputs": [
    {
     "data": {
      "text/plain": [
       "9636760.66294067"
      ]
     },
     "execution_count": 15,
     "metadata": {},
     "output_type": "execute_result"
    }
   ],
   "source": [
    "train[\"AplraiseValue\"].mean()"
   ]
  },
  {
   "cell_type": "code",
   "execution_count": 16,
   "metadata": {},
   "outputs": [
    {
     "name": "stderr",
     "output_type": "stream",
     "text": [
      "C:\\Users\\fb6587\\Anaconda3\\lib\\site-packages\\seaborn\\distributions.py:2551: FutureWarning: `distplot` is a deprecated function and will be removed in a future version. Please adapt your code to use either `displot` (a figure-level function with similar flexibility) or `histplot` (an axes-level function for histograms).\n",
      "  warnings.warn(msg, FutureWarning)\n"
     ]
    },
    {
     "name": "stdout",
     "output_type": "stream",
     "text": [
      "\n",
      " mu = 15.85 and sigma = 0.64\n",
      "\n"
     ]
    },
    {
     "data": {
      "image/png": "[encoded data removed]",
      "text/plain": [
       "<Figure size 432x288 with 1 Axes>"
      ]
     },
     "metadata": {
      "needs_background": "light"
     },
     "output_type": "display_data"
    },
    {
     "data": {
      "image/png": "[encoded data removed]",
      "text/plain": [
       "<Figure size 432x288 with 1 Axes>"
      ]
     },
     "metadata": {
      "needs_background": "light"
     },
     "output_type": "display_data"
    },
    {
     "name": "stdout",
     "output_type": "stream",
     "text": [
      "51\n"
     ]
    }
   ],
   "source": [
    "#We use the numpy fuction log1p which  applies log(1+x) to all elements of the column\n",
    "\n",
    "train[\"AplraiseValue\"] = np.log1p(train[\"AplraiseValue\"].astype('float64'))\n",
    "\n",
    "#Check the new distribution \n",
    "sns.distplot(train['AplraiseValue'] ,kde = False, fit=norm);\n",
    "\n",
    "# Get the fitted parameters used by the function\n",
    "(mu, sigma) = norm.fit(train['AplraiseValue'])\n",
    "print( '\\n mu = {:.2f} and sigma = {:.2f}\\n'.format(mu, sigma))\n",
    "\n",
    "#Now plot the distribution\n",
    "plt.legend(['Normal dist. ($\\mu=$ {:.2f} and $\\sigma=$ {:.2f} )'.format(mu, sigma)],\n",
    "            loc='best')\n",
    "plt.ylabel('Frequency')\n",
    "plt.title('AplraiseValue distribution')\n",
    "\n",
    "#Get also the QQ-plot\n",
    "plt.figure()\n",
    "res=stats.probplot( train['AplraiseValue'], plot=plt)\n",
    "plt.show()\n",
    "\n",
    "ind=train[train['AplraiseValue']> 20].index\n",
    "for i in ind: \n",
    "    print(i)"
   ]
  },
  {
   "cell_type": "code",
   "execution_count": 17,
   "metadata": {},
   "outputs": [
    {
     "data": {
      "image/png": "[encoded data removed]",
      "text/plain": [
       "<Figure size 2160x720 with 1 Axes>"
      ]
     },
     "metadata": {
      "needs_background": "light"
     },
     "output_type": "display_data"
    }
   ],
   "source": [
    "plt.figure(figsize =(30,10))\n",
    "plt.xlabel(\"Test Data ID\", fontweight = \"bold\")               \n",
    "plt.ylabel(\"YearBuilt\", fontweight = \"bold\")\n",
    "\n",
    "plt.scatter(train.index,train['BuildComDate'].fillna('None'))\n",
    "plt.draw()\n",
    "\n",
    "#新增HouseAge特徵\n",
    "train[\"HouseAge\"] = 2020- train[\"BuildComDate\"].astype(int)\n",
    "test[\"HouseAge\"] = 2020- test[\"BuildComDate\"].astype(int)\n",
    "\n",
    "train.drop([\"BuildComDate\"],axis=1,inplace = True)\n",
    "test.drop([\"BuildComDate\"],axis=1,inplace = True)"
   ]
  },
  {
   "cell_type": "code",
   "execution_count": 18,
   "metadata": {},
   "outputs": [],
   "source": [
    "#重新排序欄位的順序\n",
    "train = train[[\"LandValue\",\"LandHoldArea\",\"BuildPurpose\",\"BuildMaterial\",\"BuildType\",\"BuildLayerArea\",\"AdjBuildArea\",\n",
    "                   \"AreaItem\",\"CityItem\",\"AreaRank\",\"TotalArea\",\"HouseAge\",\"AplraiseValue\"]]\n",
    "\n",
    "test = test[[\"LandValue\",\"LandHoldArea\",\"BuildPurpose\",\"BuildMaterial\",\"BuildType\",\"BuildLayerArea\",\"AdjBuildArea\",\n",
    "                   \"AreaItem\",\"CityItem\",\"AreaRank\",\"TotalArea\",\"HouseAge\",\"AplraiseValue\"]]"
   ]
  },
  {
   "cell_type": "code",
   "execution_count": 19,
   "metadata": {},
   "outputs": [
    {
     "name": "stderr",
     "output_type": "stream",
     "text": [
      "C:\\Users\\fb6587\\Anaconda3\\lib\\site-packages\\pandas\\core\\frame.py:4163: SettingWithCopyWarning: \n",
      "A value is trying to be set on a copy of a slice from a DataFrame\n",
      "\n",
      "See the caveats in the documentation: https://pandas.pydata.org/pandas-docs/stable/user_guide/indexing.html#returning-a-view-versus-a-copy\n",
      "  return super().drop(\n"
     ]
    }
   ],
   "source": [
    "#實價登錄資料無此特徵\n",
    "train.drop(['LandValue'],axis=1,inplace = True)\n",
    "test.drop(['LandValue'],axis=1,inplace = True)"
   ]
  },
  {
   "cell_type": "code",
   "execution_count": 20,
   "metadata": {},
   "outputs": [
    {
     "data": {
      "text/plain": [
       "<AxesSubplot:>"
      ]
     },
     "execution_count": 20,
     "metadata": {},
     "output_type": "execute_result"
    },
    {
     "data": {
      "image/png": "[encoded data removed]",
      "text/plain": [
       "<Figure size 360x504 with 2 Axes>"
      ]
     },
     "metadata": {
      "needs_background": "light"
     },
     "output_type": "display_data"
    }
   ],
   "source": [
    "corrmat = train.corr()\n",
    "plt.subplots(figsize=(5,7))\n",
    "sns.heatmap(corrmat, cbar=True, annot=True, vmax=0.9, square=True,fmt='.2f')\n",
    "# train.corr()['AplraiseValue']"
   ]
  },
  {
   "cell_type": "code",
   "execution_count": 21,
   "metadata": {},
   "outputs": [
    {
     "data": {
      "text/plain": [
       "Text(0.5, 1.0, 'Correlation of Aplraise Value')"
      ]
     },
     "execution_count": 21,
     "metadata": {},
     "output_type": "execute_result"
    },
    {
     "data": {
      "image/png": "[encoded data removed]",
      "text/plain": [
       "<Figure size 1080x864 with 1 Axes>"
      ]
     },
     "metadata": {
      "needs_background": "light"
     },
     "output_type": "display_data"
    }
   ],
   "source": [
    "AplraiseValueCorr = train.corr()['AplraiseValue'].sort_values(ascending=False)\n",
    "f, ax = plt.subplots(figsize=(15, 12))\n",
    "plt.xticks(rotation='90')\n",
    "sns.barplot(x=AplraiseValueCorr.index, y=AplraiseValueCorr.values)\n",
    "plt.xlabel('Features', fontsize=15)\n",
    "plt.ylabel('Value', fontsize=15)\n",
    "plt.title('Correlation of Aplraise Value', fontsize=15)"
   ]
  },
  {
   "cell_type": "code",
   "execution_count": 22,
   "metadata": {},
   "outputs": [
    {
     "data": {
      "text/plain": [
       "(865808, 10)"
      ]
     },
     "execution_count": 22,
     "metadata": {},
     "output_type": "execute_result"
    }
   ],
   "source": [
    "#實價登錄資料\n",
    "RealPrice = pd.read_csv('./RealPrice.csv')\n",
    "RealPrice.drop(['SerialNumber'], axis=1, inplace=True)\n",
    "RealPrice = RealPrice.drop(RealPrice[RealPrice['BuildLayerArea']== 0.0].index)\n",
    "RealPrice.shape"
   ]
  },
  {
   "cell_type": "code",
   "execution_count": 23,
   "metadata": {},
   "outputs": [
    {
     "data": {
      "text/html": [
       "<div>\n",
       "<style scoped>\n",
       "    .dataframe tbody tr th:only-of-type {\n",
       "        vertical-align: middle;\n",
       "    }\n",
       "\n",
       "    .dataframe tbody tr th {\n",
       "        vertical-align: top;\n",
       "    }\n",
       "\n",
       "    .dataframe thead th {\n",
       "        text-align: right;\n",
       "    }\n",
       "</style>\n",
       "<table border=\"1\" class=\"dataframe\">\n",
       "  <thead>\n",
       "    <tr style=\"text-align: right;\">\n",
       "      <th></th>\n",
       "      <th>LandHoldArea</th>\n",
       "      <th>BuildPurpose</th>\n",
       "      <th>BuildMaterial</th>\n",
       "      <th>BuildType</th>\n",
       "      <th>BuildLayerArea</th>\n",
       "      <th>AdjBuildArea</th>\n",
       "      <th>AreaItem</th>\n",
       "      <th>Price</th>\n",
       "      <th>CityItem</th>\n",
       "      <th>HouseAge</th>\n",
       "    </tr>\n",
       "  </thead>\n",
       "  <tbody>\n",
       "    <tr>\n",
       "      <th>0</th>\n",
       "      <td>0.28</td>\n",
       "      <td>P</td>\n",
       "      <td>11</td>\n",
       "      <td>99</td>\n",
       "      <td>40.77</td>\n",
       "      <td>0</td>\n",
       "      <td>中正區</td>\n",
       "      <td>3100000</td>\n",
       "      <td>台北市</td>\n",
       "      <td>12.0904</td>\n",
       "    </tr>\n",
       "    <tr>\n",
       "      <th>1</th>\n",
       "      <td>0.02</td>\n",
       "      <td>Z</td>\n",
       "      <td>08</td>\n",
       "      <td>R2</td>\n",
       "      <td>42.72</td>\n",
       "      <td>0</td>\n",
       "      <td>中正區</td>\n",
       "      <td>51983</td>\n",
       "      <td>台北市</td>\n",
       "      <td>49.0505</td>\n",
       "    </tr>\n",
       "    <tr>\n",
       "      <th>2</th>\n",
       "      <td>6.72</td>\n",
       "      <td>A</td>\n",
       "      <td>04</td>\n",
       "      <td>R2</td>\n",
       "      <td>72.47</td>\n",
       "      <td>0</td>\n",
       "      <td>中正區</td>\n",
       "      <td>12250000</td>\n",
       "      <td>台北市</td>\n",
       "      <td>36.9781</td>\n",
       "    </tr>\n",
       "    <tr>\n",
       "      <th>3</th>\n",
       "      <td>213.58</td>\n",
       "      <td>A</td>\n",
       "      <td>04</td>\n",
       "      <td>R2</td>\n",
       "      <td>450.19</td>\n",
       "      <td>0</td>\n",
       "      <td>文山區</td>\n",
       "      <td>47000000</td>\n",
       "      <td>台北市</td>\n",
       "      <td>6.9905</td>\n",
       "    </tr>\n",
       "    <tr>\n",
       "      <th>6</th>\n",
       "      <td>23.50</td>\n",
       "      <td>A</td>\n",
       "      <td>04</td>\n",
       "      <td>R2</td>\n",
       "      <td>119.40</td>\n",
       "      <td>0</td>\n",
       "      <td>中正區</td>\n",
       "      <td>32700000</td>\n",
       "      <td>台北市</td>\n",
       "      <td>33.0098</td>\n",
       "    </tr>\n",
       "    <tr>\n",
       "      <th>...</th>\n",
       "      <td>...</td>\n",
       "      <td>...</td>\n",
       "      <td>...</td>\n",
       "      <td>...</td>\n",
       "      <td>...</td>\n",
       "      <td>...</td>\n",
       "      <td>...</td>\n",
       "      <td>...</td>\n",
       "      <td>...</td>\n",
       "      <td>...</td>\n",
       "    </tr>\n",
       "    <tr>\n",
       "      <th>1237457</th>\n",
       "      <td>69.26</td>\n",
       "      <td>F</td>\n",
       "      <td>04</td>\n",
       "      <td>R5</td>\n",
       "      <td>256.62</td>\n",
       "      <td>0</td>\n",
       "      <td>馬公市</td>\n",
       "      <td>15000000</td>\n",
       "      <td>澎湖縣</td>\n",
       "      <td>26.0293</td>\n",
       "    </tr>\n",
       "    <tr>\n",
       "      <th>1237467</th>\n",
       "      <td>62.23</td>\n",
       "      <td>A</td>\n",
       "      <td>12</td>\n",
       "      <td>R5</td>\n",
       "      <td>81.30</td>\n",
       "      <td>0</td>\n",
       "      <td>馬公市</td>\n",
       "      <td>6000000</td>\n",
       "      <td>澎湖縣</td>\n",
       "      <td>40.9895</td>\n",
       "    </tr>\n",
       "    <tr>\n",
       "      <th>1237468</th>\n",
       "      <td>22.00</td>\n",
       "      <td>F</td>\n",
       "      <td>12</td>\n",
       "      <td>R5</td>\n",
       "      <td>65.55</td>\n",
       "      <td>0</td>\n",
       "      <td>馬公市</td>\n",
       "      <td>7400000</td>\n",
       "      <td>澎湖縣</td>\n",
       "      <td>45.0306</td>\n",
       "    </tr>\n",
       "    <tr>\n",
       "      <th>1237476</th>\n",
       "      <td>26.95</td>\n",
       "      <td>Z</td>\n",
       "      <td>04</td>\n",
       "      <td>R2</td>\n",
       "      <td>181.29</td>\n",
       "      <td>0</td>\n",
       "      <td>馬公市</td>\n",
       "      <td>4800000</td>\n",
       "      <td>澎湖縣</td>\n",
       "      <td>13.9694</td>\n",
       "    </tr>\n",
       "    <tr>\n",
       "      <th>1237477</th>\n",
       "      <td>34.58</td>\n",
       "      <td>A</td>\n",
       "      <td>04</td>\n",
       "      <td>R2</td>\n",
       "      <td>183.02</td>\n",
       "      <td>0</td>\n",
       "      <td>馬公市</td>\n",
       "      <td>5400000</td>\n",
       "      <td>澎湖縣</td>\n",
       "      <td>30.9410</td>\n",
       "    </tr>\n",
       "  </tbody>\n",
       "</table>\n",
       "<p>865808 rows × 10 columns</p>\n",
       "</div>"
      ],
      "text/plain": [
       "         LandHoldArea BuildPurpose BuildMaterial BuildType  BuildLayerArea  \\\n",
       "0                0.28            P            11        99           40.77   \n",
       "1                0.02            Z            08        R2           42.72   \n",
       "2                6.72            A            04        R2           72.47   \n",
       "3              213.58            A            04        R2          450.19   \n",
       "6               23.50            A            04        R2          119.40   \n",
       "...               ...          ...           ...       ...             ...   \n",
       "1237457         69.26            F            04        R5          256.62   \n",
       "1237467         62.23            A            12        R5           81.30   \n",
       "1237468         22.00            F            12        R5           65.55   \n",
       "1237476         26.95            Z            04        R2          181.29   \n",
       "1237477         34.58            A            04        R2          183.02   \n",
       "\n",
       "         AdjBuildArea AreaItem     Price CityItem  HouseAge  \n",
       "0                   0      中正區   3100000      台北市   12.0904  \n",
       "1                   0      中正區     51983      台北市   49.0505  \n",
       "2                   0      中正區  12250000      台北市   36.9781  \n",
       "3                   0      文山區  47000000      台北市    6.9905  \n",
       "6                   0      中正區  32700000      台北市   33.0098  \n",
       "...               ...      ...       ...      ...       ...  \n",
       "1237457             0      馬公市  15000000      澎湖縣   26.0293  \n",
       "1237467             0      馬公市   6000000      澎湖縣   40.9895  \n",
       "1237468             0      馬公市   7400000      澎湖縣   45.0306  \n",
       "1237476             0      馬公市   4800000      澎湖縣   13.9694  \n",
       "1237477             0      馬公市   5400000      澎湖縣   30.9410  \n",
       "\n",
       "[865808 rows x 10 columns]"
      ]
     },
     "execution_count": 23,
     "metadata": {},
     "output_type": "execute_result"
    }
   ],
   "source": [
    "RealPrice"
   ]
  },
  {
   "cell_type": "code",
   "execution_count": 24,
   "metadata": {},
   "outputs": [
    {
     "data": {
      "text/html": [
       "<div>\n",
       "<style scoped>\n",
       "    .dataframe tbody tr th:only-of-type {\n",
       "        vertical-align: middle;\n",
       "    }\n",
       "\n",
       "    .dataframe tbody tr th {\n",
       "        vertical-align: top;\n",
       "    }\n",
       "\n",
       "    .dataframe thead th {\n",
       "        text-align: right;\n",
       "    }\n",
       "</style>\n",
       "<table border=\"1\" class=\"dataframe\">\n",
       "  <thead>\n",
       "    <tr style=\"text-align: right;\">\n",
       "      <th></th>\n",
       "      <th>Missing Ratio</th>\n",
       "    </tr>\n",
       "  </thead>\n",
       "  <tbody>\n",
       "  </tbody>\n",
       "</table>\n",
       "</div>"
      ],
      "text/plain": [
       "Empty DataFrame\n",
       "Columns: [Missing Ratio]\n",
       "Index: []"
      ]
     },
     "execution_count": 24,
     "metadata": {},
     "output_type": "execute_result"
    }
   ],
   "source": [
    "RealPrice_na = (RealPrice.isnull().sum() / len(RealPrice)) * 100\n",
    "RealPrice_na =RealPrice_na.drop(RealPrice_na[RealPrice_na == 0].index).sort_values(ascending=False)[:]\n",
    "missing_data = pd.DataFrame({'Missing Ratio' :RealPrice_na})\n",
    "missing_data.head(10)"
   ]
  },
  {
   "cell_type": "code",
   "execution_count": 25,
   "metadata": {},
   "outputs": [],
   "source": [
    "#新增實價登錄資料AreaRank特徵\n",
    "RealPrice[\"AreaRank\"] = RealPrice[\"CityItem\"].map({\"屏東縣\":1,\"台東縣\":1,\"嘉義縣\":1,\"嘉義市\":1,\"南投縣\":1,\"連江縣\":1,\n",
    "                                           \"雲林縣\":2,\"澎湖縣\":2,\"彰化縣\":2,\"苗栗縣\":2,\n",
    "                                           \"台南市\":3,\"基隆市\":3,\"花蓮縣\":3,\"高雄市\":3,\"宜蘭縣\":3,\"桃園市\":3,\"台中市\":3,\"新竹縣\":3,\"新竹市\":3,\"金門縣\":3,\"澎湖縣\":3,\n",
    "                                           \"新北市\":4,\n",
    "                                           \"台北市\":6})\n",
    "newTaipei = {\"永和區\",\"板橋區\", \"中和區\",\"三重區\",\"新店區\",\"蘆洲區\",\"新莊區\",\"土城區\"}  \n",
    "Taipei = {\"大安區\",\"信義區\", \"中正區\",\"松山區\",\"中山區\"}\n",
    "\n",
    "for index in RealPrice.index:\n",
    "    if(RealPrice[\"CityItem\"][index] == \"台北市\"):\n",
    "        if(RealPrice[\"AreaItem\"][index] in Taipei):\n",
    "                RealPrice.loc[index,\"AreaRank\"]= RealPrice[\"AreaRank\"][index]+1\n",
    "    elif(RealPrice[\"CityItem\"][index] == \"新北市\"):\n",
    "        if(RealPrice[\"AreaItem\"][index] in newTaipei):\n",
    "                RealPrice.loc[index,\"AreaRank\"]= RealPrice[\"AreaRank\"][index]+1"
   ]
  },
  {
   "cell_type": "code",
   "execution_count": 26,
   "metadata": {},
   "outputs": [],
   "source": [
    "#新增實價登錄資料TotalArea特徵\n",
    "RealPrice['TotalArea']=RealPrice[\"BuildLayerArea\"] + RealPrice[\"AdjBuildArea\"]+RealPrice['LandHoldArea']"
   ]
  },
  {
   "cell_type": "code",
   "execution_count": 27,
   "metadata": {},
   "outputs": [],
   "source": [
    "RealPrice = RealPrice[[\"LandHoldArea\",\"BuildPurpose\",\"BuildMaterial\",\"BuildType\",\"BuildLayerArea\",\"AdjBuildArea\",\n",
    "                   \"AreaItem\",\"CityItem\",\"AreaRank\",\"TotalArea\",\"HouseAge\",\"Price\"]]"
   ]
  },
  {
   "cell_type": "code",
   "execution_count": 28,
   "metadata": {},
   "outputs": [
    {
     "name": "stdout",
     "output_type": "stream",
     "text": [
      "       LandHoldArea  BuildLayerArea  AdjBuildArea       AreaRank  \\\n",
      "count  8.658080e+05    8.658080e+05      865808.0  865808.000000   \n",
      "mean   7.087251e+01    1.631001e+02           0.0       3.442301   \n",
      "std    1.751350e+03    1.209990e+03           0.0       1.283003   \n",
      "min    0.000000e+00    1.000000e-02           0.0       1.000000   \n",
      "25%    1.515000e+01    9.372000e+01           0.0       3.000000   \n",
      "50%    2.508000e+01    1.359600e+02           0.0       3.000000   \n",
      "75%    5.727000e+01    1.836200e+02           0.0       4.000000   \n",
      "max    1.044217e+06    1.060815e+06           0.0       7.000000   \n",
      "\n",
      "          TotalArea       HouseAge         Price  \n",
      "count  8.658080e+05  865808.000000  8.658080e+05  \n",
      "mean   2.339726e+02      13.827313  1.147247e+07  \n",
      "std    2.176793e+03      15.145444  3.396595e+07  \n",
      "min    1.000000e-02    -734.001300  0.000000e+00  \n",
      "25%    1.193400e+02       0.041800  4.800000e+06  \n",
      "50%    1.684100e+02       8.919900  7.950000e+06  \n",
      "75%    2.439300e+02      24.939900  1.270000e+07  \n",
      "max    1.060829e+06     109.032000  1.469800e+10  \n"
     ]
    }
   ],
   "source": [
    "print(RealPrice.describe())"
   ]
  },
  {
   "cell_type": "code",
   "execution_count": 29,
   "metadata": {},
   "outputs": [
    {
     "data": {
      "text/plain": [
       "LandHoldArea      float64\n",
       "BuildPurpose       object\n",
       "BuildMaterial      object\n",
       "BuildType          object\n",
       "BuildLayerArea    float64\n",
       "AdjBuildArea        int64\n",
       "AreaItem           object\n",
       "CityItem           object\n",
       "AreaRank            int64\n",
       "TotalArea         float64\n",
       "HouseAge          float64\n",
       "Price               int64\n",
       "dtype: object"
      ]
     },
     "execution_count": 29,
     "metadata": {},
     "output_type": "execute_result"
    }
   ],
   "source": [
    "RealPrice.dtypes"
   ]
  },
  {
   "cell_type": "code",
   "execution_count": 30,
   "metadata": {
    "scrolled": true
   },
   "outputs": [
    {
     "data": {
      "text/plain": [
       "LandHoldArea      float64\n",
       "BuildPurpose       object\n",
       "BuildMaterial      object\n",
       "BuildType          object\n",
       "BuildLayerArea    float64\n",
       "AdjBuildArea      float64\n",
       "AreaItem           object\n",
       "CityItem           object\n",
       "AreaRank            int64\n",
       "TotalArea         float64\n",
       "HouseAge            int32\n",
       "AplraiseValue     float64\n",
       "dtype: object"
      ]
     },
     "execution_count": 30,
     "metadata": {},
     "output_type": "execute_result"
    }
   ],
   "source": [
    "train.dtypes"
   ]
  },
  {
   "cell_type": "code",
   "execution_count": 31,
   "metadata": {},
   "outputs": [],
   "source": [
    "RealPrice[\"AdjBuildArea\"]=RealPrice[\"AdjBuildArea\"].astype(float)\n",
    "RealPrice[\"Price\"]=RealPrice[\"Price\"].astype(float)\n"
   ]
  },
  {
   "cell_type": "code",
   "execution_count": 32,
   "metadata": {},
   "outputs": [
    {
     "name": "stdout",
     "output_type": "stream",
     "text": [
      "0\n"
     ]
    }
   ],
   "source": [
    "#刪除實價登錄中無建物的資料\n",
    "ind = RealPrice[RealPrice[\"BuildLayerArea\"]==0].index\n",
    "print(len(ind))\n",
    "RealPrice.drop(ind,inplace=True)\n",
    "RealPrice.reset_index(drop = True , inplace = True)"
   ]
  },
  {
   "cell_type": "code",
   "execution_count": 33,
   "metadata": {},
   "outputs": [
    {
     "name": "stdout",
     "output_type": "stream",
     "text": [
      "69\n"
     ]
    }
   ],
   "source": [
    "#刪除實價登錄中交易價格為0的資料\n",
    "ind = RealPrice[RealPrice[\"Price\"]==0].index\n",
    "print(len(ind))\n",
    "ind\n",
    "RealPrice.drop(ind,inplace=True)\n",
    "RealPrice.reset_index(drop = True , inplace = True)"
   ]
  },
  {
   "cell_type": "code",
   "execution_count": 34,
   "metadata": {},
   "outputs": [
    {
     "name": "stdout",
     "output_type": "stream",
     "text": [
      "630\n"
     ]
    }
   ],
   "source": [
    "#刪除實價登錄中交易價格大於3億的資料\n",
    "ind = RealPrice[RealPrice[\"Price\"]>300000000].index\n",
    "print(len(ind))\n",
    "ind\n",
    "RealPrice.drop(ind,inplace=True)\n",
    "RealPrice.reset_index(drop = True , inplace = True)"
   ]
  },
  {
   "cell_type": "code",
   "execution_count": 35,
   "metadata": {},
   "outputs": [
    {
     "name": "stdout",
     "output_type": "stream",
     "text": [
      "95860\n"
     ]
    }
   ],
   "source": [
    "#刪除實價登錄中屋齡小於0的資料\n",
    "ind = RealPrice[RealPrice[\"HouseAge\"]<0].index\n",
    "print(len(ind))\n",
    "ind\n",
    "RealPrice.drop(ind,inplace=True)\n",
    "RealPrice.reset_index(drop = True , inplace = True)"
   ]
  },
  {
   "cell_type": "code",
   "execution_count": 36,
   "metadata": {
    "scrolled": true
   },
   "outputs": [
    {
     "name": "stdout",
     "output_type": "stream",
     "text": [
      "LandHoldArea      False\n",
      "BuildPurpose      False\n",
      "BuildMaterial     False\n",
      "BuildType         False\n",
      "BuildLayerArea    False\n",
      "AdjBuildArea      False\n",
      "AreaItem          False\n",
      "CityItem          False\n",
      "AreaRank          False\n",
      "TotalArea         False\n",
      "HouseAge          False\n",
      "Price             False\n",
      "dtype: bool\n"
     ]
    }
   ],
   "source": [
    "print(RealPrice.isnull().any())"
   ]
  },
  {
   "cell_type": "code",
   "execution_count": 37,
   "metadata": {},
   "outputs": [
    {
     "data": {
      "text/plain": [
       "<Figure size 2880x2160 with 0 Axes>"
      ]
     },
     "metadata": {},
     "output_type": "display_data"
    },
    {
     "data": {
      "image/png": "[encoded data removed]",
      "text/plain": [
       "<Figure size 432x288 with 1 Axes>"
      ]
     },
     "metadata": {
      "needs_background": "light"
     },
     "output_type": "display_data"
    }
   ],
   "source": [
    "plt.figure(figsize =(40,30))\n",
    "fig,ax = plt.subplots()\n",
    "ax.scatter(x = RealPrice.index, y = RealPrice['HouseAge'])\n",
    "plt.xlabel('index', fontweight = \"bold\")               \n",
    "plt.ylabel(\"HouseAge\", fontweight = \"bold\")\n",
    "\n",
    "plt.scatter(RealPrice.index,RealPrice['HouseAge'])\n",
    "plt.draw()"
   ]
  },
  {
   "cell_type": "code",
   "execution_count": 38,
   "metadata": {},
   "outputs": [
    {
     "data": {
      "text/plain": [
       "<Figure size 2880x2160 with 0 Axes>"
      ]
     },
     "metadata": {},
     "output_type": "display_data"
    },
    {
     "data": {
      "image/png": "[encoded data removed]",
      "text/plain": [
       "<Figure size 432x288 with 1 Axes>"
      ]
     },
     "metadata": {
      "needs_background": "light"
     },
     "output_type": "display_data"
    }
   ],
   "source": [
    "plt.figure(figsize =(40,30))\n",
    "fig,ax = plt.subplots()\n",
    "ax.scatter(x = RealPrice.index, y = RealPrice['Price'])\n",
    "plt.xlabel('index', fontweight = \"bold\")               \n",
    "plt.ylabel(\"Price\", fontweight = \"bold\")\n",
    "\n",
    "plt.scatter(RealPrice.index,RealPrice['Price'])\n",
    "plt.draw()"
   ]
  },
  {
   "cell_type": "code",
   "execution_count": 39,
   "metadata": {},
   "outputs": [
    {
     "data": {
      "text/plain": [
       "<Figure size 2880x2160 with 0 Axes>"
      ]
     },
     "metadata": {},
     "output_type": "display_data"
    },
    {
     "data": {
      "image/png": "[encoded data removed]",
      "text/plain": [
       "<Figure size 432x288 with 1 Axes>"
      ]
     },
     "metadata": {
      "needs_background": "light"
     },
     "output_type": "display_data"
    }
   ],
   "source": [
    "plt.figure(figsize =(40,30))\n",
    "fig,ax = plt.subplots()\n",
    "ax.scatter(x = RealPrice.index, y = RealPrice['AreaRank'])\n",
    "plt.xlabel('index', fontweight = \"bold\")               \n",
    "plt.ylabel(\"AreaRank\", fontweight = \"bold\")\n",
    "\n",
    "plt.scatter(RealPrice.index,RealPrice['AreaRank'])\n",
    "plt.draw()"
   ]
  },
  {
   "cell_type": "code",
   "execution_count": 40,
   "metadata": {},
   "outputs": [
    {
     "data": {
      "text/plain": [
       "<Figure size 2880x2160 with 0 Axes>"
      ]
     },
     "metadata": {},
     "output_type": "display_data"
    },
    {
     "data": {
      "image/png": "[encoded data removed]",
      "text/plain": [
       "<Figure size 432x288 with 1 Axes>"
      ]
     },
     "metadata": {
      "needs_background": "light"
     },
     "output_type": "display_data"
    }
   ],
   "source": [
    "plt.figure(figsize =(40,30))\n",
    "fig,ax = plt.subplots()\n",
    "ax.scatter(x = RealPrice.index, y = RealPrice['TotalArea'])\n",
    "plt.xlabel('index', fontweight = \"bold\")               \n",
    "plt.ylabel(\"TotalArea\", fontweight = \"bold\")\n",
    "\n",
    "plt.scatter(RealPrice.index,RealPrice['TotalArea'])\n",
    "plt.draw()"
   ]
  },
  {
   "cell_type": "code",
   "execution_count": 41,
   "metadata": {},
   "outputs": [
    {
     "data": {
      "text/plain": [
       "109.03200000000001"
      ]
     },
     "execution_count": 41,
     "metadata": {},
     "output_type": "execute_result"
    }
   ],
   "source": [
    "RealPrice['HouseAge'].max()"
   ]
  },
  {
   "cell_type": "code",
   "execution_count": 42,
   "metadata": {},
   "outputs": [
    {
     "data": {
      "text/plain": [
       "0.0"
      ]
     },
     "execution_count": 42,
     "metadata": {},
     "output_type": "execute_result"
    }
   ],
   "source": [
    "RealPrice['HouseAge'].min()"
   ]
  },
  {
   "cell_type": "code",
   "execution_count": 43,
   "metadata": {},
   "outputs": [
    {
     "data": {
      "text/plain": [
       "15.753598251669423"
      ]
     },
     "execution_count": 43,
     "metadata": {},
     "output_type": "execute_result"
    }
   ],
   "source": [
    "RealPrice['HouseAge'].mean()"
   ]
  },
  {
   "cell_type": "code",
   "execution_count": 44,
   "metadata": {},
   "outputs": [
    {
     "data": {
      "text/plain": [
       "300000000.0"
      ]
     },
     "execution_count": 44,
     "metadata": {},
     "output_type": "execute_result"
    }
   ],
   "source": [
    "RealPrice['Price'].max()"
   ]
  },
  {
   "cell_type": "code",
   "execution_count": 45,
   "metadata": {},
   "outputs": [
    {
     "data": {
      "text/plain": [
       "110.0"
      ]
     },
     "execution_count": 45,
     "metadata": {},
     "output_type": "execute_result"
    }
   ],
   "source": [
    "RealPrice['Price'].min()"
   ]
  },
  {
   "cell_type": "code",
   "execution_count": 46,
   "metadata": {},
   "outputs": [
    {
     "data": {
      "text/plain": [
       "10802309.952171534"
      ]
     },
     "execution_count": 46,
     "metadata": {},
     "output_type": "execute_result"
    }
   ],
   "source": [
    "RealPrice['Price'].mean()"
   ]
  },
  {
   "cell_type": "code",
   "execution_count": 47,
   "metadata": {},
   "outputs": [
    {
     "data": {
      "text/plain": [
       "1060829.14"
      ]
     },
     "execution_count": 47,
     "metadata": {},
     "output_type": "execute_result"
    }
   ],
   "source": [
    "RealPrice['TotalArea'].max()"
   ]
  },
  {
   "cell_type": "code",
   "execution_count": 48,
   "metadata": {},
   "outputs": [
    {
     "data": {
      "text/plain": [
       "0.01"
      ]
     },
     "execution_count": 48,
     "metadata": {},
     "output_type": "execute_result"
    }
   ],
   "source": [
    "RealPrice['TotalArea'].min()"
   ]
  },
  {
   "cell_type": "code",
   "execution_count": 49,
   "metadata": {},
   "outputs": [
    {
     "data": {
      "text/plain": [
       "226.23465381170263"
      ]
     },
     "execution_count": 49,
     "metadata": {},
     "output_type": "execute_result"
    }
   ],
   "source": [
    "RealPrice['TotalArea'].mean()"
   ]
  },
  {
   "cell_type": "code",
   "execution_count": 50,
   "metadata": {},
   "outputs": [
    {
     "name": "stdout",
     "output_type": "stream",
     "text": [
      "all_data size is : (773623, 11)\n"
     ]
    },
    {
     "data": {
      "text/html": [
       "<div>\n",
       "<style scoped>\n",
       "    .dataframe tbody tr th:only-of-type {\n",
       "        vertical-align: middle;\n",
       "    }\n",
       "\n",
       "    .dataframe tbody tr th {\n",
       "        vertical-align: top;\n",
       "    }\n",
       "\n",
       "    .dataframe thead th {\n",
       "        text-align: right;\n",
       "    }\n",
       "</style>\n",
       "<table border=\"1\" class=\"dataframe\">\n",
       "  <thead>\n",
       "    <tr style=\"text-align: right;\">\n",
       "      <th></th>\n",
       "      <th>LandHoldArea</th>\n",
       "      <th>BuildPurpose</th>\n",
       "      <th>BuildMaterial</th>\n",
       "      <th>BuildType</th>\n",
       "      <th>BuildLayerArea</th>\n",
       "      <th>AdjBuildArea</th>\n",
       "      <th>AreaItem</th>\n",
       "      <th>CityItem</th>\n",
       "      <th>AreaRank</th>\n",
       "      <th>TotalArea</th>\n",
       "      <th>HouseAge</th>\n",
       "    </tr>\n",
       "  </thead>\n",
       "  <tbody>\n",
       "    <tr>\n",
       "      <th>0</th>\n",
       "      <td>2.90</td>\n",
       "      <td>A</td>\n",
       "      <td>04</td>\n",
       "      <td>R2</td>\n",
       "      <td>12.29</td>\n",
       "      <td>3.22</td>\n",
       "      <td>板橋區</td>\n",
       "      <td>新北市</td>\n",
       "      <td>5</td>\n",
       "      <td>18.41</td>\n",
       "      <td>27.0000</td>\n",
       "    </tr>\n",
       "    <tr>\n",
       "      <th>1</th>\n",
       "      <td>3.20</td>\n",
       "      <td>A</td>\n",
       "      <td>04</td>\n",
       "      <td>R2</td>\n",
       "      <td>22.12</td>\n",
       "      <td>3.38</td>\n",
       "      <td>三重區</td>\n",
       "      <td>新北市</td>\n",
       "      <td>5</td>\n",
       "      <td>28.70</td>\n",
       "      <td>25.0000</td>\n",
       "    </tr>\n",
       "    <tr>\n",
       "      <th>2</th>\n",
       "      <td>5.11</td>\n",
       "      <td>C</td>\n",
       "      <td>04</td>\n",
       "      <td>R2</td>\n",
       "      <td>28.67</td>\n",
       "      <td>2.81</td>\n",
       "      <td>土城區</td>\n",
       "      <td>新北市</td>\n",
       "      <td>5</td>\n",
       "      <td>36.59</td>\n",
       "      <td>24.0000</td>\n",
       "    </tr>\n",
       "    <tr>\n",
       "      <th>3</th>\n",
       "      <td>40.82</td>\n",
       "      <td>A</td>\n",
       "      <td>04</td>\n",
       "      <td>R5</td>\n",
       "      <td>64.43</td>\n",
       "      <td>10.10</td>\n",
       "      <td>南投市</td>\n",
       "      <td>南投縣</td>\n",
       "      <td>1</td>\n",
       "      <td>115.35</td>\n",
       "      <td>27.0000</td>\n",
       "    </tr>\n",
       "    <tr>\n",
       "      <th>4</th>\n",
       "      <td>5.54</td>\n",
       "      <td>A</td>\n",
       "      <td>04</td>\n",
       "      <td>R2</td>\n",
       "      <td>23.02</td>\n",
       "      <td>6.87</td>\n",
       "      <td>大寮區</td>\n",
       "      <td>高雄市</td>\n",
       "      <td>3</td>\n",
       "      <td>35.43</td>\n",
       "      <td>26.0000</td>\n",
       "    </tr>\n",
       "    <tr>\n",
       "      <th>...</th>\n",
       "      <td>...</td>\n",
       "      <td>...</td>\n",
       "      <td>...</td>\n",
       "      <td>...</td>\n",
       "      <td>...</td>\n",
       "      <td>...</td>\n",
       "      <td>...</td>\n",
       "      <td>...</td>\n",
       "      <td>...</td>\n",
       "      <td>...</td>\n",
       "      <td>...</td>\n",
       "    </tr>\n",
       "    <tr>\n",
       "      <th>773618</th>\n",
       "      <td>69.26</td>\n",
       "      <td>F</td>\n",
       "      <td>04</td>\n",
       "      <td>R5</td>\n",
       "      <td>256.62</td>\n",
       "      <td>0.00</td>\n",
       "      <td>馬公市</td>\n",
       "      <td>澎湖縣</td>\n",
       "      <td>3</td>\n",
       "      <td>325.88</td>\n",
       "      <td>26.0293</td>\n",
       "    </tr>\n",
       "    <tr>\n",
       "      <th>773619</th>\n",
       "      <td>62.23</td>\n",
       "      <td>A</td>\n",
       "      <td>12</td>\n",
       "      <td>R5</td>\n",
       "      <td>81.30</td>\n",
       "      <td>0.00</td>\n",
       "      <td>馬公市</td>\n",
       "      <td>澎湖縣</td>\n",
       "      <td>3</td>\n",
       "      <td>143.53</td>\n",
       "      <td>40.9895</td>\n",
       "    </tr>\n",
       "    <tr>\n",
       "      <th>773620</th>\n",
       "      <td>22.00</td>\n",
       "      <td>F</td>\n",
       "      <td>12</td>\n",
       "      <td>R5</td>\n",
       "      <td>65.55</td>\n",
       "      <td>0.00</td>\n",
       "      <td>馬公市</td>\n",
       "      <td>澎湖縣</td>\n",
       "      <td>3</td>\n",
       "      <td>87.55</td>\n",
       "      <td>45.0306</td>\n",
       "    </tr>\n",
       "    <tr>\n",
       "      <th>773621</th>\n",
       "      <td>26.95</td>\n",
       "      <td>Z</td>\n",
       "      <td>04</td>\n",
       "      <td>R2</td>\n",
       "      <td>181.29</td>\n",
       "      <td>0.00</td>\n",
       "      <td>馬公市</td>\n",
       "      <td>澎湖縣</td>\n",
       "      <td>3</td>\n",
       "      <td>208.24</td>\n",
       "      <td>13.9694</td>\n",
       "    </tr>\n",
       "    <tr>\n",
       "      <th>773622</th>\n",
       "      <td>34.58</td>\n",
       "      <td>A</td>\n",
       "      <td>04</td>\n",
       "      <td>R2</td>\n",
       "      <td>183.02</td>\n",
       "      <td>0.00</td>\n",
       "      <td>馬公市</td>\n",
       "      <td>澎湖縣</td>\n",
       "      <td>3</td>\n",
       "      <td>217.60</td>\n",
       "      <td>30.9410</td>\n",
       "    </tr>\n",
       "  </tbody>\n",
       "</table>\n",
       "<p>773623 rows × 11 columns</p>\n",
       "</div>"
      ],
      "text/plain": [
       "        LandHoldArea BuildPurpose BuildMaterial BuildType  BuildLayerArea  \\\n",
       "0               2.90            A            04        R2           12.29   \n",
       "1               3.20            A            04        R2           22.12   \n",
       "2               5.11            C            04        R2           28.67   \n",
       "3              40.82            A            04        R5           64.43   \n",
       "4               5.54            A            04        R2           23.02   \n",
       "...              ...          ...           ...       ...             ...   \n",
       "773618         69.26            F            04        R5          256.62   \n",
       "773619         62.23            A            12        R5           81.30   \n",
       "773620         22.00            F            12        R5           65.55   \n",
       "773621         26.95            Z            04        R2          181.29   \n",
       "773622         34.58            A            04        R2          183.02   \n",
       "\n",
       "        AdjBuildArea AreaItem CityItem  AreaRank  TotalArea  HouseAge  \n",
       "0               3.22      板橋區      新北市         5      18.41   27.0000  \n",
       "1               3.38      三重區      新北市         5      28.70   25.0000  \n",
       "2               2.81      土城區      新北市         5      36.59   24.0000  \n",
       "3              10.10      南投市      南投縣         1     115.35   27.0000  \n",
       "4               6.87      大寮區      高雄市         3      35.43   26.0000  \n",
       "...              ...      ...      ...       ...        ...       ...  \n",
       "773618          0.00      馬公市      澎湖縣         3     325.88   26.0293  \n",
       "773619          0.00      馬公市      澎湖縣         3     143.53   40.9895  \n",
       "773620          0.00      馬公市      澎湖縣         3      87.55   45.0306  \n",
       "773621          0.00      馬公市      澎湖縣         3     208.24   13.9694  \n",
       "773622          0.00      馬公市      澎湖縣         3     217.60   30.9410  \n",
       "\n",
       "[773623 rows x 11 columns]"
      ]
     },
     "execution_count": 50,
     "metadata": {},
     "output_type": "execute_result"
    }
   ],
   "source": [
    "ntrain = train.shape[0]\n",
    "ntest = test.shape[0]\n",
    "nRealPrice = RealPrice.shape[0]\n",
    "Y_train = train.AplraiseValue.values\n",
    "AcctualValues = test.AplraiseValue.values\n",
    "RealPriceValue = RealPrice.Price.values\n",
    "all_data = pd.concat((train, test)).reset_index(drop=True)\n",
    "all_data.drop(['AplraiseValue'], axis=1, inplace=True)\n",
    "RealPrice.drop(['Price'], axis=1, inplace=True)\n",
    "all_data = pd.concat((all_data, RealPrice)).reset_index(drop=True)\n",
    "print(\"all_data size is : {}\".format(all_data.shape))\n",
    "all_data"
   ]
  },
  {
   "cell_type": "code",
   "execution_count": 51,
   "metadata": {},
   "outputs": [],
   "source": [
    "all_data[\"BuildMaterial\"] = all_data[\"BuildMaterial\"].astype(str)"
   ]
  },
  {
   "cell_type": "code",
   "execution_count": 52,
   "metadata": {},
   "outputs": [
    {
     "name": "stdout",
     "output_type": "stream",
     "text": [
      "\n",
      "Skew in numerical features: \n",
      "\n"
     ]
    },
    {
     "data": {
      "text/html": [
       "<div>\n",
       "<style scoped>\n",
       "    .dataframe tbody tr th:only-of-type {\n",
       "        vertical-align: middle;\n",
       "    }\n",
       "\n",
       "    .dataframe tbody tr th {\n",
       "        vertical-align: top;\n",
       "    }\n",
       "\n",
       "    .dataframe thead th {\n",
       "        text-align: right;\n",
       "    }\n",
       "</style>\n",
       "<table border=\"1\" class=\"dataframe\">\n",
       "  <thead>\n",
       "    <tr style=\"text-align: right;\">\n",
       "      <th></th>\n",
       "      <th>Skewness</th>\n",
       "    </tr>\n",
       "  </thead>\n",
       "  <tbody>\n",
       "    <tr>\n",
       "      <th>BuildLayerArea</th>\n",
       "      <td>830.494098</td>\n",
       "    </tr>\n",
       "    <tr>\n",
       "      <th>LandHoldArea</th>\n",
       "      <td>563.752622</td>\n",
       "    </tr>\n",
       "    <tr>\n",
       "      <th>TotalArea</th>\n",
       "      <td>458.984877</td>\n",
       "    </tr>\n",
       "    <tr>\n",
       "      <th>AdjBuildArea</th>\n",
       "      <td>36.105803</td>\n",
       "    </tr>\n",
       "    <tr>\n",
       "      <th>AreaRank</th>\n",
       "      <td>0.852614</td>\n",
       "    </tr>\n",
       "    <tr>\n",
       "      <th>HouseAge</th>\n",
       "      <td>0.649134</td>\n",
       "    </tr>\n",
       "  </tbody>\n",
       "</table>\n",
       "</div>"
      ],
      "text/plain": [
       "                  Skewness\n",
       "BuildLayerArea  830.494098\n",
       "LandHoldArea    563.752622\n",
       "TotalArea       458.984877\n",
       "AdjBuildArea     36.105803\n",
       "AreaRank          0.852614\n",
       "HouseAge          0.649134"
      ]
     },
     "execution_count": 52,
     "metadata": {},
     "output_type": "execute_result"
    }
   ],
   "source": [
    "numeric_feats = all_data.dtypes[all_data.dtypes != \"object\"].index\n",
    "\n",
    "# Check the skew of all numerical features\n",
    "skewed_feats = all_data[numeric_feats].apply(lambda x: skew(x.dropna())).sort_values(ascending=False)\n",
    "print(\"\\nSkew in numerical features: \\n\")\n",
    "skewness = pd.DataFrame({'Skewness' :skewed_feats})\n",
    "skewness.head(10)\n"
   ]
  },
  {
   "cell_type": "code",
   "execution_count": 53,
   "metadata": {},
   "outputs": [
    {
     "name": "stdout",
     "output_type": "stream",
     "text": [
      "\n",
      " mu = 156.78 and sigma = 1229.33\n",
      "\n"
     ]
    },
    {
     "name": "stderr",
     "output_type": "stream",
     "text": [
      "C:\\Users\\fb6587\\Anaconda3\\lib\\site-packages\\seaborn\\distributions.py:2551: FutureWarning: `distplot` is a deprecated function and will be removed in a future version. Please adapt your code to use either `displot` (a figure-level function with similar flexibility) or `histplot` (an axes-level function for histograms).\n",
      "  warnings.warn(msg, FutureWarning)\n"
     ]
    },
    {
     "data": {
      "image/png": "[encoded data removed]",
      "text/plain": [
       "<Figure size 432x288 with 1 Axes>"
      ]
     },
     "metadata": {
      "needs_background": "light"
     },
     "output_type": "display_data"
    },
    {
     "data": {
      "text/plain": [
       "<Figure size 432x288 with 0 Axes>"
      ]
     },
     "metadata": {},
     "output_type": "display_data"
    }
   ],
   "source": [
    "\n",
    "sns.distplot(all_data['BuildLayerArea'],kde = False , fit=norm);\n",
    "\n",
    "# Get the fitted parameters used by the function\n",
    "(mu, sigma) = norm.fit(all_data['BuildLayerArea'])\n",
    "print( '\\n mu = {:.2f} and sigma = {:.2f}\\n'.format(mu, sigma))\n",
    "\n",
    "#Now plot the distribution\n",
    "plt.legend(['Normal dist. ($\\mu=$ {:.2f} and $\\sigma=$ {:.2f} )'.format(mu, sigma)],\n",
    "            loc='best')\n",
    "plt.ylabel('Frequency')\n",
    "plt.title('BuildLayerArea distribution')\n",
    "\n",
    "fig = plt.figure()\n",
    "# res = stats.probplot(train['AplraiseValue'], plot=plt)\n",
    "plt.show()"
   ]
  },
  {
   "cell_type": "code",
   "execution_count": 54,
   "metadata": {},
   "outputs": [
    {
     "name": "stdout",
     "output_type": "stream",
     "text": [
      "There are 6 skewed numerical features to Box Cox transform\n"
     ]
    }
   ],
   "source": [
    "skewness = skewness[abs(skewness) > 0.75]\n",
    "print(\"There are {} skewed numerical features to Box Cox transform\".format(skewness.shape[0]))\n",
    "\n",
    "# λ是轉換參數，它介於-5到5之間。某些λ值會對應到其他的轉換方法，\n",
    "# 例如λ=1等於沒做轉換，λ=0是對數轉換，λ=0.5， 是平方根轉換，λ=-1倒數轉換。\n",
    "# 要轉換的資料值必須是正數才能使用Box-Cox轉換。\n",
    "\n",
    "# y = ((1+x)**lmbda - 1) / lmbda  if lmbda != 0\n",
    "#    log(1+x)                    if lmbda == 0\n",
    "\n",
    "from scipy.special import boxcox1p\n",
    "skewed_features = skewness.index\n",
    "lam = 0.15\n",
    "for feat in skewed_features:\n",
    "    all_data[feat] = boxcox1p(all_data[feat], lam)"
   ]
  },
  {
   "cell_type": "code",
   "execution_count": 55,
   "metadata": {},
   "outputs": [
    {
     "name": "stderr",
     "output_type": "stream",
     "text": [
      "C:\\Users\\fb6587\\Anaconda3\\lib\\site-packages\\seaborn\\distributions.py:2551: FutureWarning: `distplot` is a deprecated function and will be removed in a future version. Please adapt your code to use either `displot` (a figure-level function with similar flexibility) or `histplot` (an axes-level function for histograms).\n",
      "  warnings.warn(msg, FutureWarning)\n"
     ]
    },
    {
     "name": "stdout",
     "output_type": "stream",
     "text": [
      "\n",
      " mu = 7.16 and sigma = 1.32\n",
      "\n"
     ]
    },
    {
     "data": {
      "image/png": "[encoded data removed]",
      "text/plain": [
       "<Figure size 432x288 with 1 Axes>"
      ]
     },
     "metadata": {
      "needs_background": "light"
     },
     "output_type": "display_data"
    },
    {
     "data": {
      "text/plain": [
       "<Figure size 432x288 with 0 Axes>"
      ]
     },
     "metadata": {},
     "output_type": "display_data"
    }
   ],
   "source": [
    "sns.distplot(all_data['BuildLayerArea'],kde = False , fit=norm);\n",
    "\n",
    "# Get the fitted parameters used by the function\n",
    "(mu, sigma) = norm.fit(all_data['BuildLayerArea'])\n",
    "print( '\\n mu = {:.2f} and sigma = {:.2f}\\n'.format(mu, sigma))\n",
    "\n",
    "#Now plot the distribution\n",
    "plt.legend(['Normal dist. ($\\mu=$ {:.2f} and $\\sigma=$ {:.2f} )'.format(mu, sigma)],\n",
    "            loc='best')\n",
    "plt.ylabel('Frequency')\n",
    "plt.title('BuildLayerArea distribution')\n",
    "\n",
    "fig = plt.figure()\n",
    "# res = stats.probplot(train['AplraiseValue'], plot=plt)\n",
    "plt.show()"
   ]
  },
  {
   "cell_type": "code",
   "execution_count": 56,
   "metadata": {},
   "outputs": [],
   "source": [
    "from sklearn.preprocessing import LabelEncoder\n",
    "cols = ('AreaItem', 'CityItem')\n",
    "# process columns, apply LabelEncoder to categorical features\n",
    "for c in cols:\n",
    "    lbl = LabelEncoder() \n",
    "    lbl.fit(list(all_data[c].values)) \n",
    "    all_data[c] = lbl.transform(list(all_data[c].values))"
   ]
  },
  {
   "cell_type": "code",
   "execution_count": 57,
   "metadata": {},
   "outputs": [
    {
     "name": "stdout",
     "output_type": "stream",
     "text": [
      "(773623, 57)\n"
     ]
    }
   ],
   "source": [
    "\n",
    "all_data.to_csv('./all_data.csv',encoding='utf_8_sig', index=False)\n",
    "all_data = pd.get_dummies(all_data)\n",
    "print(all_data.shape)\n"
   ]
  },
  {
   "cell_type": "code",
   "execution_count": 58,
   "metadata": {},
   "outputs": [
    {
     "data": {
      "text/html": [
       "<div>\n",
       "<style scoped>\n",
       "    .dataframe tbody tr th:only-of-type {\n",
       "        vertical-align: middle;\n",
       "    }\n",
       "\n",
       "    .dataframe tbody tr th {\n",
       "        vertical-align: top;\n",
       "    }\n",
       "\n",
       "    .dataframe thead th {\n",
       "        text-align: right;\n",
       "    }\n",
       "</style>\n",
       "<table border=\"1\" class=\"dataframe\">\n",
       "  <thead>\n",
       "    <tr style=\"text-align: right;\">\n",
       "      <th></th>\n",
       "      <th>LandHoldArea</th>\n",
       "      <th>BuildLayerArea</th>\n",
       "      <th>AdjBuildArea</th>\n",
       "      <th>AreaItem</th>\n",
       "      <th>CityItem</th>\n",
       "      <th>AreaRank</th>\n",
       "      <th>TotalArea</th>\n",
       "      <th>HouseAge</th>\n",
       "      <th>BuildPurpose_A</th>\n",
       "      <th>BuildPurpose_B</th>\n",
       "      <th>...</th>\n",
       "      <th>BuildType_99</th>\n",
       "      <th>BuildType_B1</th>\n",
       "      <th>BuildType_B2</th>\n",
       "      <th>BuildType_B3</th>\n",
       "      <th>BuildType_R1</th>\n",
       "      <th>BuildType_R2</th>\n",
       "      <th>BuildType_R3</th>\n",
       "      <th>BuildType_R4</th>\n",
       "      <th>BuildType_R5</th>\n",
       "      <th>BuildType_R6</th>\n",
       "    </tr>\n",
       "  </thead>\n",
       "  <tbody>\n",
       "    <tr>\n",
       "      <th>0</th>\n",
       "      <td>1.509852</td>\n",
       "      <td>3.160707</td>\n",
       "      <td>1.607145</td>\n",
       "      <td>187</td>\n",
       "      <td>11</td>\n",
       "      <td>2.055642</td>\n",
       "      <td>3.735231</td>\n",
       "      <td>4.322948</td>\n",
       "      <td>1</td>\n",
       "      <td>0</td>\n",
       "      <td>...</td>\n",
       "      <td>0</td>\n",
       "      <td>0</td>\n",
       "      <td>0</td>\n",
       "      <td>0</td>\n",
       "      <td>0</td>\n",
       "      <td>1</td>\n",
       "      <td>0</td>\n",
       "      <td>0</td>\n",
       "      <td>0</td>\n",
       "      <td>0</td>\n",
       "    </tr>\n",
       "    <tr>\n",
       "      <th>1</th>\n",
       "      <td>1.601251</td>\n",
       "      <td>4.011751</td>\n",
       "      <td>1.653458</td>\n",
       "      <td>11</td>\n",
       "      <td>11</td>\n",
       "      <td>2.055642</td>\n",
       "      <td>4.420542</td>\n",
       "      <td>4.201461</td>\n",
       "      <td>1</td>\n",
       "      <td>0</td>\n",
       "      <td>...</td>\n",
       "      <td>0</td>\n",
       "      <td>0</td>\n",
       "      <td>0</td>\n",
       "      <td>0</td>\n",
       "      <td>0</td>\n",
       "      <td>1</td>\n",
       "      <td>0</td>\n",
       "      <td>0</td>\n",
       "      <td>0</td>\n",
       "      <td>0</td>\n",
       "    </tr>\n",
       "    <tr>\n",
       "      <th>2</th>\n",
       "      <td>2.079443</td>\n",
       "      <td>4.418861</td>\n",
       "      <td>1.481267</td>\n",
       "      <td>87</td>\n",
       "      <td>11</td>\n",
       "      <td>2.055642</td>\n",
       "      <td>4.819354</td>\n",
       "      <td>4.137711</td>\n",
       "      <td>0</td>\n",
       "      <td>0</td>\n",
       "      <td>...</td>\n",
       "      <td>0</td>\n",
       "      <td>0</td>\n",
       "      <td>0</td>\n",
       "      <td>0</td>\n",
       "      <td>0</td>\n",
       "      <td>1</td>\n",
       "      <td>0</td>\n",
       "      <td>0</td>\n",
       "      <td>0</td>\n",
       "      <td>0</td>\n",
       "    </tr>\n",
       "    <tr>\n",
       "      <th>3</th>\n",
       "      <td>5.004556</td>\n",
       "      <td>5.815078</td>\n",
       "      <td>2.898823</td>\n",
       "      <td>68</td>\n",
       "      <td>0</td>\n",
       "      <td>0.730463</td>\n",
       "      <td>6.940688</td>\n",
       "      <td>4.322948</td>\n",
       "      <td>1</td>\n",
       "      <td>0</td>\n",
       "      <td>...</td>\n",
       "      <td>0</td>\n",
       "      <td>0</td>\n",
       "      <td>0</td>\n",
       "      <td>0</td>\n",
       "      <td>0</td>\n",
       "      <td>0</td>\n",
       "      <td>0</td>\n",
       "      <td>0</td>\n",
       "      <td>1</td>\n",
       "      <td>0</td>\n",
       "    </tr>\n",
       "    <tr>\n",
       "      <th>4</th>\n",
       "      <td>2.169124</td>\n",
       "      <td>4.073096</td>\n",
       "      <td>2.417915</td>\n",
       "      <td>106</td>\n",
       "      <td>21</td>\n",
       "      <td>1.540963</td>\n",
       "      <td>4.765476</td>\n",
       "      <td>4.263161</td>\n",
       "      <td>1</td>\n",
       "      <td>0</td>\n",
       "      <td>...</td>\n",
       "      <td>0</td>\n",
       "      <td>0</td>\n",
       "      <td>0</td>\n",
       "      <td>0</td>\n",
       "      <td>0</td>\n",
       "      <td>1</td>\n",
       "      <td>0</td>\n",
       "      <td>0</td>\n",
       "      <td>0</td>\n",
       "      <td>0</td>\n",
       "    </tr>\n",
       "    <tr>\n",
       "      <th>...</th>\n",
       "      <td>...</td>\n",
       "      <td>...</td>\n",
       "      <td>...</td>\n",
       "      <td>...</td>\n",
       "      <td>...</td>\n",
       "      <td>...</td>\n",
       "      <td>...</td>\n",
       "      <td>...</td>\n",
       "      <td>...</td>\n",
       "      <td>...</td>\n",
       "      <td>...</td>\n",
       "      <td>...</td>\n",
       "      <td>...</td>\n",
       "      <td>...</td>\n",
       "      <td>...</td>\n",
       "      <td>...</td>\n",
       "      <td>...</td>\n",
       "      <td>...</td>\n",
       "      <td>...</td>\n",
       "      <td>...</td>\n",
       "      <td>...</td>\n",
       "    </tr>\n",
       "    <tr>\n",
       "      <th>773618</th>\n",
       "      <td>5.949138</td>\n",
       "      <td>8.663811</td>\n",
       "      <td>0.000000</td>\n",
       "      <td>335</td>\n",
       "      <td>15</td>\n",
       "      <td>1.540963</td>\n",
       "      <td>9.221251</td>\n",
       "      <td>4.264939</td>\n",
       "      <td>0</td>\n",
       "      <td>0</td>\n",
       "      <td>...</td>\n",
       "      <td>0</td>\n",
       "      <td>0</td>\n",
       "      <td>0</td>\n",
       "      <td>0</td>\n",
       "      <td>0</td>\n",
       "      <td>0</td>\n",
       "      <td>0</td>\n",
       "      <td>0</td>\n",
       "      <td>1</td>\n",
       "      <td>0</td>\n",
       "    </tr>\n",
       "    <tr>\n",
       "      <th>773619</th>\n",
       "      <td>5.751206</td>\n",
       "      <td>6.252030</td>\n",
       "      <td>0.000000</td>\n",
       "      <td>335</td>\n",
       "      <td>15</td>\n",
       "      <td>1.540963</td>\n",
       "      <td>7.390650</td>\n",
       "      <td>5.011639</td>\n",
       "      <td>1</td>\n",
       "      <td>0</td>\n",
       "      <td>...</td>\n",
       "      <td>0</td>\n",
       "      <td>0</td>\n",
       "      <td>0</td>\n",
       "      <td>0</td>\n",
       "      <td>0</td>\n",
       "      <td>0</td>\n",
       "      <td>0</td>\n",
       "      <td>0</td>\n",
       "      <td>1</td>\n",
       "      <td>0</td>\n",
       "    </tr>\n",
       "    <tr>\n",
       "      <th>773620</th>\n",
       "      <td>4.003419</td>\n",
       "      <td>5.846895</td>\n",
       "      <td>0.000000</td>\n",
       "      <td>335</td>\n",
       "      <td>15</td>\n",
       "      <td>1.540963</td>\n",
       "      <td>6.394652</td>\n",
       "      <td>5.173716</td>\n",
       "      <td>0</td>\n",
       "      <td>0</td>\n",
       "      <td>...</td>\n",
       "      <td>0</td>\n",
       "      <td>0</td>\n",
       "      <td>0</td>\n",
       "      <td>0</td>\n",
       "      <td>0</td>\n",
       "      <td>0</td>\n",
       "      <td>0</td>\n",
       "      <td>0</td>\n",
       "      <td>1</td>\n",
       "      <td>0</td>\n",
       "    </tr>\n",
       "    <tr>\n",
       "      <th>773621</th>\n",
       "      <td>4.320002</td>\n",
       "      <td>7.888701</td>\n",
       "      <td>0.000000</td>\n",
       "      <td>335</td>\n",
       "      <td>15</td>\n",
       "      <td>1.540963</td>\n",
       "      <td>8.192876</td>\n",
       "      <td>3.337695</td>\n",
       "      <td>0</td>\n",
       "      <td>0</td>\n",
       "      <td>...</td>\n",
       "      <td>0</td>\n",
       "      <td>0</td>\n",
       "      <td>0</td>\n",
       "      <td>0</td>\n",
       "      <td>0</td>\n",
       "      <td>1</td>\n",
       "      <td>0</td>\n",
       "      <td>0</td>\n",
       "      <td>0</td>\n",
       "      <td>0</td>\n",
       "    </tr>\n",
       "    <tr>\n",
       "      <th>773622</th>\n",
       "      <td>4.725062</td>\n",
       "      <td>7.909338</td>\n",
       "      <td>0.000000</td>\n",
       "      <td>335</td>\n",
       "      <td>15</td>\n",
       "      <td>1.540963</td>\n",
       "      <td>8.290739</td>\n",
       "      <td>4.542182</td>\n",
       "      <td>1</td>\n",
       "      <td>0</td>\n",
       "      <td>...</td>\n",
       "      <td>0</td>\n",
       "      <td>0</td>\n",
       "      <td>0</td>\n",
       "      <td>0</td>\n",
       "      <td>0</td>\n",
       "      <td>1</td>\n",
       "      <td>0</td>\n",
       "      <td>0</td>\n",
       "      <td>0</td>\n",
       "      <td>0</td>\n",
       "    </tr>\n",
       "  </tbody>\n",
       "</table>\n",
       "<p>773623 rows × 57 columns</p>\n",
       "</div>"
      ],
      "text/plain": [
       "        LandHoldArea  BuildLayerArea  AdjBuildArea  AreaItem  CityItem  \\\n",
       "0           1.509852        3.160707      1.607145       187        11   \n",
       "1           1.601251        4.011751      1.653458        11        11   \n",
       "2           2.079443        4.418861      1.481267        87        11   \n",
       "3           5.004556        5.815078      2.898823        68         0   \n",
       "4           2.169124        4.073096      2.417915       106        21   \n",
       "...              ...             ...           ...       ...       ...   \n",
       "773618      5.949138        8.663811      0.000000       335        15   \n",
       "773619      5.751206        6.252030      0.000000       335        15   \n",
       "773620      4.003419        5.846895      0.000000       335        15   \n",
       "773621      4.320002        7.888701      0.000000       335        15   \n",
       "773622      4.725062        7.909338      0.000000       335        15   \n",
       "\n",
       "        AreaRank  TotalArea  HouseAge  BuildPurpose_A  BuildPurpose_B  ...  \\\n",
       "0       2.055642   3.735231  4.322948               1               0  ...   \n",
       "1       2.055642   4.420542  4.201461               1               0  ...   \n",
       "2       2.055642   4.819354  4.137711               0               0  ...   \n",
       "3       0.730463   6.940688  4.322948               1               0  ...   \n",
       "4       1.540963   4.765476  4.263161               1               0  ...   \n",
       "...          ...        ...       ...             ...             ...  ...   \n",
       "773618  1.540963   9.221251  4.264939               0               0  ...   \n",
       "773619  1.540963   7.390650  5.011639               1               0  ...   \n",
       "773620  1.540963   6.394652  5.173716               0               0  ...   \n",
       "773621  1.540963   8.192876  3.337695               0               0  ...   \n",
       "773622  1.540963   8.290739  4.542182               1               0  ...   \n",
       "\n",
       "        BuildType_99  BuildType_B1  BuildType_B2  BuildType_B3  BuildType_R1  \\\n",
       "0                  0             0             0             0             0   \n",
       "1                  0             0             0             0             0   \n",
       "2                  0             0             0             0             0   \n",
       "3                  0             0             0             0             0   \n",
       "4                  0             0             0             0             0   \n",
       "...              ...           ...           ...           ...           ...   \n",
       "773618             0             0             0             0             0   \n",
       "773619             0             0             0             0             0   \n",
       "773620             0             0             0             0             0   \n",
       "773621             0             0             0             0             0   \n",
       "773622             0             0             0             0             0   \n",
       "\n",
       "        BuildType_R2  BuildType_R3  BuildType_R4  BuildType_R5  BuildType_R6  \n",
       "0                  1             0             0             0             0  \n",
       "1                  1             0             0             0             0  \n",
       "2                  1             0             0             0             0  \n",
       "3                  0             0             0             1             0  \n",
       "4                  1             0             0             0             0  \n",
       "...              ...           ...           ...           ...           ...  \n",
       "773618             0             0             0             1             0  \n",
       "773619             0             0             0             1             0  \n",
       "773620             0             0             0             1             0  \n",
       "773621             1             0             0             0             0  \n",
       "773622             1             0             0             0             0  \n",
       "\n",
       "[773623 rows x 57 columns]"
      ]
     },
     "execution_count": 58,
     "metadata": {},
     "output_type": "execute_result"
    }
   ],
   "source": [
    "all_data"
   ]
  },
  {
   "cell_type": "code",
   "execution_count": 59,
   "metadata": {},
   "outputs": [
    {
     "name": "stdout",
     "output_type": "stream",
     "text": [
      "(3489,)\n",
      "(3489, 57)\n"
     ]
    }
   ],
   "source": [
    "train = all_data[:ntrain]\n",
    "# test = all_data[ntrain:]\n",
    "test = all_data[ntrain:ntrain+ntest]\n",
    "test_RealPrice= all_data[ntrain+ntest:]\n",
    "print(Y_train.shape)\n",
    "print(train.shape)"
   ]
  },
  {
   "cell_type": "code",
   "execution_count": 60,
   "metadata": {},
   "outputs": [],
   "source": [
    "from sklearn.linear_model import ElasticNet, Lasso,  BayesianRidge, LassoLarsIC\n",
    "from sklearn.ensemble import RandomForestRegressor,  GradientBoostingRegressor\n",
    "from sklearn.kernel_ridge import KernelRidge\n",
    "from sklearn.pipeline import make_pipeline\n",
    "from sklearn.preprocessing import RobustScaler\n",
    "from sklearn.base import BaseEstimator, TransformerMixin, RegressorMixin, clone\n",
    "from sklearn.model_selection import KFold, cross_val_score, train_test_split\n",
    "from sklearn.metrics import mean_squared_error\n",
    "import xgboost as xgb\n",
    "import lightgbm as lgb"
   ]
  },
  {
   "cell_type": "code",
   "execution_count": 61,
   "metadata": {},
   "outputs": [],
   "source": [
    "n_folds = 5\n",
    "\n",
    "def rmsle_cv(model):\n",
    "    kf = KFold(n_folds, shuffle=True, random_state=42).get_n_splits(train.values)\n",
    "    rmse= np.sqrt(-cross_val_score(model, train.values, Y_train, scoring=\"neg_mean_squared_error\", cv = kf))\n",
    "    return(rmse)"
   ]
  },
  {
   "cell_type": "code",
   "execution_count": 62,
   "metadata": {},
   "outputs": [
    {
     "name": "stdout",
     "output_type": "stream",
     "text": [
      "\n",
      "Lasso score: 0.3800 (0.0052)\n",
      "\n"
     ]
    }
   ],
   "source": [
    "lasso = make_pipeline(RobustScaler(), Lasso(alpha =0.0005, random_state=1))\n",
    "score = rmsle_cv(lasso)\n",
    "print(\"\\nLasso score: {:.4f} ({:.4f})\\n\".format(score.mean(), score.std()))"
   ]
  },
  {
   "cell_type": "code",
   "execution_count": 63,
   "metadata": {},
   "outputs": [
    {
     "name": "stdout",
     "output_type": "stream",
     "text": [
      "ElasticNet score: 0.3816 (0.0067)\n",
      "\n"
     ]
    }
   ],
   "source": [
    "ENet = make_pipeline(RobustScaler(), ElasticNet(alpha=0.001, l1_ratio=.9, random_state=3))\n",
    "score = rmsle_cv(ENet)\n",
    "print(\"ElasticNet score: {:.4f} ({:.4f})\\n\".format(score.mean(), score.std()))\n",
    "\n"
   ]
  },
  {
   "cell_type": "code",
   "execution_count": 64,
   "metadata": {},
   "outputs": [
    {
     "name": "stdout",
     "output_type": "stream",
     "text": [
      "Kernel Ridge score: 0.3944 (0.0046)\n",
      "\n"
     ]
    }
   ],
   "source": [
    "KRR = KernelRidge(alpha=9, kernel='polynomial', degree=2, coef0=2.5)\n",
    "score = rmsle_cv(KRR)\n",
    "print(\"Kernel Ridge score: {:.4f} ({:.4f})\\n\".format(score.mean(), score.std()))"
   ]
  },
  {
   "cell_type": "code",
   "execution_count": 65,
   "metadata": {},
   "outputs": [
    {
     "name": "stdout",
     "output_type": "stream",
     "text": [
      "[17:23:33] WARNING: ..\\src\\learner.cc:541: \n",
      "Parameters: { silent } might not be used.\n",
      "\n",
      "  This may not be accurate due to some parameters are only used in language bindings but\n",
      "  passed down to XGBoost core.  Or some parameters are not used but slip through this\n",
      "  verification. Please open an issue if you find above cases.\n",
      "\n",
      "\n",
      "[17:23:37] WARNING: ..\\src\\learner.cc:541: \n",
      "Parameters: { silent } might not be used.\n",
      "\n",
      "  This may not be accurate due to some parameters are only used in language bindings but\n",
      "  passed down to XGBoost core.  Or some parameters are not used but slip through this\n",
      "  verification. Please open an issue if you find above cases.\n",
      "\n",
      "\n",
      "[17:23:40] WARNING: ..\\src\\learner.cc:541: \n",
      "Parameters: { silent } might not be used.\n",
      "\n",
      "  This may not be accurate due to some parameters are only used in language bindings but\n",
      "  passed down to XGBoost core.  Or some parameters are not used but slip through this\n",
      "  verification. Please open an issue if you find above cases.\n",
      "\n",
      "\n",
      "[17:23:43] WARNING: ..\\src\\learner.cc:541: \n",
      "Parameters: { silent } might not be used.\n",
      "\n",
      "  This may not be accurate due to some parameters are only used in language bindings but\n",
      "  passed down to XGBoost core.  Or some parameters are not used but slip through this\n",
      "  verification. Please open an issue if you find above cases.\n",
      "\n",
      "\n",
      "[17:23:47] WARNING: ..\\src\\learner.cc:541: \n",
      "Parameters: { silent } might not be used.\n",
      "\n",
      "  This may not be accurate due to some parameters are only used in language bindings but\n",
      "  passed down to XGBoost core.  Or some parameters are not used but slip through this\n",
      "  verification. Please open an issue if you find above cases.\n",
      "\n",
      "\n",
      "Gradient Boosting score: 0.2712 (0.0124)\n",
      "\n"
     ]
    }
   ],
   "source": [
    "model_xgb = xgb.XGBRegressor(colsample_bytree=0.4603, gamma=0.0468, \n",
    "                             learning_rate=0.05, max_depth=3, \n",
    "                             min_child_weight=1.7817, n_estimators=2200,\n",
    "                             reg_alpha=0.4640, reg_lambda=0.8571,\n",
    "                             subsample=0.5213, silent=1,\n",
    "                             random_state =7, nthread = -1)\n",
    "\n",
    "score = rmsle_cv(model_xgb)\n",
    "print(\"Gradient Boosting score: {:.4f} ({:.4f})\\n\".format(score.mean(), score.std()))"
   ]
  },
  {
   "cell_type": "code",
   "execution_count": 66,
   "metadata": {},
   "outputs": [
    {
     "name": "stdout",
     "output_type": "stream",
     "text": [
      "[LightGBM] [Warning] feature_fraction is set=0.2319, colsample_bytree=1.0 will be ignored. Current value: feature_fraction=0.2319\n",
      "[LightGBM] [Warning] min_data_in_leaf is set=6, min_child_samples=20 will be ignored. Current value: min_data_in_leaf=6\n",
      "[LightGBM] [Warning] min_sum_hessian_in_leaf is set=11, min_child_weight=0.001 will be ignored. Current value: min_sum_hessian_in_leaf=11\n",
      "[LightGBM] [Warning] bagging_fraction is set=0.8, subsample=1.0 will be ignored. Current value: bagging_fraction=0.8\n",
      "[LightGBM] [Warning] bagging_freq is set=5, subsample_freq=0 will be ignored. Current value: bagging_freq=5\n",
      "[LightGBM] [Warning] feature_fraction is set=0.2319, colsample_bytree=1.0 will be ignored. Current value: feature_fraction=0.2319\n",
      "[LightGBM] [Warning] min_data_in_leaf is set=6, min_child_samples=20 will be ignored. Current value: min_data_in_leaf=6\n",
      "[LightGBM] [Warning] min_sum_hessian_in_leaf is set=11, min_child_weight=0.001 will be ignored. Current value: min_sum_hessian_in_leaf=11\n",
      "[LightGBM] [Warning] bagging_fraction is set=0.8, subsample=1.0 will be ignored. Current value: bagging_fraction=0.8\n",
      "[LightGBM] [Warning] bagging_freq is set=5, subsample_freq=0 will be ignored. Current value: bagging_freq=5\n",
      "[LightGBM] [Warning] feature_fraction is set=0.2319, colsample_bytree=1.0 will be ignored. Current value: feature_fraction=0.2319\n",
      "[LightGBM] [Warning] min_data_in_leaf is set=6, min_child_samples=20 will be ignored. Current value: min_data_in_leaf=6\n",
      "[LightGBM] [Warning] min_sum_hessian_in_leaf is set=11, min_child_weight=0.001 will be ignored. Current value: min_sum_hessian_in_leaf=11\n",
      "[LightGBM] [Warning] bagging_fraction is set=0.8, subsample=1.0 will be ignored. Current value: bagging_fraction=0.8\n",
      "[LightGBM] [Warning] bagging_freq is set=5, subsample_freq=0 will be ignored. Current value: bagging_freq=5\n",
      "[LightGBM] [Warning] feature_fraction is set=0.2319, colsample_bytree=1.0 will be ignored. Current value: feature_fraction=0.2319\n",
      "[LightGBM] [Warning] min_data_in_leaf is set=6, min_child_samples=20 will be ignored. Current value: min_data_in_leaf=6\n",
      "[LightGBM] [Warning] min_sum_hessian_in_leaf is set=11, min_child_weight=0.001 will be ignored. Current value: min_sum_hessian_in_leaf=11\n",
      "[LightGBM] [Warning] bagging_fraction is set=0.8, subsample=1.0 will be ignored. Current value: bagging_fraction=0.8\n",
      "[LightGBM] [Warning] bagging_freq is set=5, subsample_freq=0 will be ignored. Current value: bagging_freq=5\n",
      "[LightGBM] [Warning] feature_fraction is set=0.2319, colsample_bytree=1.0 will be ignored. Current value: feature_fraction=0.2319\n",
      "[LightGBM] [Warning] min_data_in_leaf is set=6, min_child_samples=20 will be ignored. Current value: min_data_in_leaf=6\n",
      "[LightGBM] [Warning] min_sum_hessian_in_leaf is set=11, min_child_weight=0.001 will be ignored. Current value: min_sum_hessian_in_leaf=11\n",
      "[LightGBM] [Warning] bagging_fraction is set=0.8, subsample=1.0 will be ignored. Current value: bagging_fraction=0.8\n",
      "[LightGBM] [Warning] bagging_freq is set=5, subsample_freq=0 will be ignored. Current value: bagging_freq=5\n",
      "LGBM score: 0.2773 (0.0173)\n",
      "\n",
      "[0.29957575 0.26804933 0.29515651 0.25390846 0.26982379]\n"
     ]
    }
   ],
   "source": [
    "model_lgb = lgb.LGBMRegressor(objective='regression',num_leaves=18,\n",
    "                              learning_rate=0.1, n_estimators=1080,\n",
    "                              max_bin = 55, bagging_fraction = 0.8,\n",
    "                              bagging_freq = 5, feature_fraction = 0.2319,\n",
    "                              feature_fraction_seed=9, bagging_seed=9,\n",
    "                              min_data_in_leaf =6, min_sum_hessian_in_leaf = 11)\n",
    "score = rmsle_cv(model_lgb)\n",
    "print(\"LGBM score: {:.4f} ({:.4f})\\n\" .format(score.mean(), score.std()))\n",
    "\n",
    "print(score)"
   ]
  },
  {
   "cell_type": "code",
   "execution_count": 67,
   "metadata": {},
   "outputs": [],
   "source": [
    "class StackingAveragedModels(BaseEstimator, RegressorMixin, TransformerMixin):\n",
    "    def __init__(self, base_models, meta_model, n_folds=5):\n",
    "        self.base_models = base_models\n",
    "        self.meta_model = meta_model\n",
    "        self.n_folds = n_folds\n",
    "   \n",
    "    # We again fit the data on clones of the original models\n",
    "    def fit(self, X, y):\n",
    "        self.base_models_ = [list() for x in self.base_models]\n",
    "        self.meta_model_ = clone(self.meta_model)\n",
    "        kfold = KFold(n_splits=self.n_folds, shuffle=True, random_state=156)\n",
    "        \n",
    "        # Train cloned base models then create out-of-fold predictions\n",
    "        # that are needed to train the cloned meta-model\n",
    "        out_of_fold_predictions = np.zeros((X.shape[0], len(self.base_models)))\n",
    "        for i, model in enumerate(self.base_models):\n",
    "            for train_index, holdout_index in kfold.split(X, y):\n",
    "                instance = clone(model)\n",
    "                self.base_models_[i].append(instance)\n",
    "                instance.fit(X[train_index], y[train_index])\n",
    "                y_pred = instance.predict(X[holdout_index])\n",
    "                out_of_fold_predictions[holdout_index, i] = y_pred\n",
    "                \n",
    "        # Now train the cloned  meta-model using the out-of-fold predictions as new feature\n",
    "       \n",
    "        self.meta_model_.fit(out_of_fold_predictions, y)\n",
    "        return self\n",
    "   \n",
    "    #Do the predictions of all base models on the test data and use the averaged predictions as \n",
    "    #meta-features for the final prediction which is done by the meta-model\n",
    "    def predict(self, X):\n",
    "        meta_features = np.column_stack([\n",
    "            np.column_stack([model.predict(X) for model in base_models]).mean(axis=1)\n",
    "            for base_models in self.base_models_ ])\n",
    "        \n",
    "        return self.meta_model_.predict(meta_features)"
   ]
  },
  {
   "cell_type": "code",
   "execution_count": 68,
   "metadata": {},
   "outputs": [
    {
     "name": "stdout",
     "output_type": "stream",
     "text": [
      "stacked_averaged_models score: 0.3831 (0.0081)\n",
      "\n"
     ]
    }
   ],
   "source": [
    "stacked_averaged_models = StackingAveragedModels(base_models = (lasso,ENet),\n",
    "                                                 meta_model = KRR)\n",
    "score = rmsle_cv(stacked_averaged_models)\n",
    "print(\"stacked_averaged_models score: {:.4f} ({:.4f})\\n\".format(score.mean(),score.std()))\n",
    "stacked_averaged_models.fit(train.values, Y_train)\n",
    "stacked_pred = np.expm1(stacked_averaged_models.predict(test.values))"
   ]
  },
  {
   "cell_type": "code",
   "execution_count": 69,
   "metadata": {
    "scrolled": true
   },
   "outputs": [
    {
     "name": "stdout",
     "output_type": "stream",
     "text": [
      "[LightGBM] [Warning] feature_fraction is set=0.2319, colsample_bytree=1.0 will be ignored. Current value: feature_fraction=0.2319\n",
      "[LightGBM] [Warning] min_data_in_leaf is set=6, min_child_samples=20 will be ignored. Current value: min_data_in_leaf=6\n",
      "[LightGBM] [Warning] min_sum_hessian_in_leaf is set=11, min_child_weight=0.001 will be ignored. Current value: min_sum_hessian_in_leaf=11\n",
      "[LightGBM] [Warning] bagging_fraction is set=0.8, subsample=1.0 will be ignored. Current value: bagging_fraction=0.8\n",
      "[LightGBM] [Warning] bagging_freq is set=5, subsample_freq=0 will be ignored. Current value: bagging_freq=5\n"
     ]
    }
   ],
   "source": [
    "model_lgb.fit(train, Y_train)\n",
    "lgb_pred = np.expm1(model_lgb.predict(test.values))"
   ]
  },
  {
   "cell_type": "code",
   "execution_count": 70,
   "metadata": {
    "scrolled": true
   },
   "outputs": [
    {
     "name": "stdout",
     "output_type": "stream",
     "text": [
      "(3489, 57)\n",
      "(885, 57)\n",
      "[17:24:00] WARNING: ..\\src\\learner.cc:541: \n",
      "Parameters: { silent } might not be used.\n",
      "\n",
      "  This may not be accurate due to some parameters are only used in language bindings but\n",
      "  passed down to XGBoost core.  Or some parameters are not used but slip through this\n",
      "  verification. Please open an issue if you find above cases.\n",
      "\n",
      "\n"
     ]
    }
   ],
   "source": [
    "print(train.shape)\n",
    "print(test.shape)\n",
    "\n",
    "train_x = train.values\n",
    "test_x = test.values\n",
    "model_xgb.fit(train_x, Y_train)\n",
    "# test= test[model_xgb.get_booster().feature_names]\n",
    "xgb_pred = np.expm1(model_xgb.predict(test_x))\n"
   ]
  },
  {
   "cell_type": "code",
   "execution_count": 71,
   "metadata": {},
   "outputs": [
    {
     "name": "stdout",
     "output_type": "stream",
     "text": [
      "RMSE of stacked_pred is :  5024995.995873644\n",
      "R Squared of stacked_pred is :  0.7328777357869135\n"
     ]
    }
   ],
   "source": [
    "#RMSE\n",
    "print ('RMSE of stacked_pred is : ',np.sqrt(mean_squared_error(AcctualValues,stacked_pred)))\n",
    "\n",
    "#R Squared\n",
    "print ('R Squared of stacked_pred is : ',1- mean_squared_error(AcctualValues,stacked_pred)/ np.var(AcctualValues))"
   ]
  },
  {
   "cell_type": "code",
   "execution_count": 72,
   "metadata": {},
   "outputs": [
    {
     "name": "stdout",
     "output_type": "stream",
     "text": [
      "RSME of lgb_pred is :  5143245.155917763\n",
      "R Squared of lgb_pred is :  0.7201578694052738\n"
     ]
    }
   ],
   "source": [
    "#RMSE\n",
    "print ('RSME of lgb_pred is : ',np.sqrt(mean_squared_error(AcctualValues,lgb_pred)))\n",
    "\n",
    "#R Squared\n",
    "print ('R Squared of lgb_pred is : ',1- mean_squared_error(AcctualValues,lgb_pred)/ np.var(AcctualValues))"
   ]
  },
  {
   "cell_type": "code",
   "execution_count": 73,
   "metadata": {},
   "outputs": [
    {
     "name": "stdout",
     "output_type": "stream",
     "text": [
      "RMSE of xgb_pred is :  4026569.954525377\n",
      "R Squared of xgb_pred is :  0.8284822209694188\n"
     ]
    }
   ],
   "source": [
    "#RMSE\n",
    "print ('RMSE of xgb_pred is : ',np.sqrt(mean_squared_error(AcctualValues,xgb_pred)))\n",
    "\n",
    "#R Squared\n",
    "print ('R Squared of xgb_pred is : ',1- mean_squared_error(AcctualValues,xgb_pred)/ np.var(AcctualValues))"
   ]
  },
  {
   "cell_type": "code",
   "execution_count": 74,
   "metadata": {},
   "outputs": [],
   "source": [
    "# ensemble = stacked_pred*0.3 + lgb_pred*0.6 + xgb_pred*0.1   \n",
    "\n",
    "# ensemble = stacked_pred*0.3 + lgb_pred*0.1 + xgb_pred*0.6   \n",
    "ensemble = stacked_pred*0.1 + lgb_pred*0.3 + xgb_pred*0.6"
   ]
  },
  {
   "cell_type": "code",
   "execution_count": 75,
   "metadata": {},
   "outputs": [
    {
     "name": "stdout",
     "output_type": "stream",
     "text": [
      "[34733916.87880881 19593364.98312866  7484912.53686194 14077840.18327739\n",
      "  5392745.09031034 11731413.27990259  6314704.7514037   3120255.44533167\n",
      " 12027978.33012065  4142762.39929443 10731523.70657173 10373986.72305603\n",
      "  6617235.84083556  3270699.35232469  9726500.51137796  6114331.73483632\n",
      "  6055922.62057285  5570643.84508961 18965351.75470591 12472846.30373381\n",
      "  5091785.36319477  9983361.33027196  3110125.47812648 14092087.98027182\n",
      "  6949483.66292575  9919581.07262371  3976917.4431856  17466629.46811413\n",
      " 10285346.41529868  7183906.00817546  8894923.9490885  14171544.08649949\n",
      "  6601469.79699762  5488941.70985927  4509129.12141099 16293226.35807372\n",
      " 16810250.28151561 13806091.63034767  9273401.23767309  7897707.67393334\n",
      " 24048420.69998141  6557875.94505628  5292969.36651369  8753074.76601911\n",
      "  9087426.35491291 16334178.21869417 10506298.35585104  3844595.13121671\n",
      " 15522672.04991998 21747878.38399544  7468530.28273019 12688641.03113933\n",
      " 23761176.79537279 13814301.24373351  3212555.21875407  4726454.16685173\n",
      " 29269530.73175755 10704549.95136705  9790496.39144011  5283977.58199819\n",
      "  9010923.2896315   3160856.9281553  14824235.89891642 13844734.34800308\n",
      "  7806915.05232787 19326354.44872963  5179953.27453738 13037541.47426266\n",
      " 35182562.12233099  6567652.36535223  5989127.80093421  9000177.97732985\n",
      " 10564221.25746784  7025659.68084716  8766722.89364279 22317790.66125984\n",
      "  6418902.6558001  14594756.87492258  6551426.79847426  5324971.41660116\n",
      " 10667200.6142497  12447548.25426809 10523202.02099     8322195.92404983\n",
      "  4119190.16847495 20410805.15518389  9291487.16172432  6933897.78907962\n",
      " 14540509.026683    7304937.55534916  5015873.23606997 14028252.76087293\n",
      "  7666257.6696885  12335853.08863437  8767225.22232359  4805518.84604493\n",
      "  4666017.74685757  8020550.08615546  4976164.57599377 17604034.45523226\n",
      "  7797113.35514723 12861547.13358334  7613741.10412154 10349757.12536282\n",
      "  3916044.92039063 11006050.73412594  9291126.17786862 12343420.4326674\n",
      "  5520658.5407994   2234939.71902034  4776517.77761951  8114594.45056725\n",
      " 18283389.60361121  4178242.52253302  8138219.05604658 37915787.04562843\n",
      " 10749708.03320144  9119982.15309103  7958050.18515362 46151409.92965955\n",
      "  7164317.96790523  2242293.52719221 11300574.61494078  7989033.09831075\n",
      "  6885855.94816473  8990846.6240873  12034534.24848189  7859534.6901482\n",
      "  6542066.34952353  8544518.77499485 15003949.83780809  5984124.44572958\n",
      " 17611821.27342054  5736275.72744852  2101033.84779371  6939293.8631655\n",
      "  4583942.05626291 14187655.74173701  6392911.32963586  6557875.94505628\n",
      " 11609127.00713586  2684357.59771624  9477846.03750992  3169842.73273958\n",
      "  6213682.81780653  5475188.25017177 10614799.15498171  6403356.31233103\n",
      "  5225534.90056015 21184307.82753967 10014509.40946353 14150018.52319424\n",
      "  5400237.06666176  5993358.19799804  7653029.74400177 28627219.5949291\n",
      "  6190993.74911486  8432709.66523441 33203179.00330353 41081876.32694954\n",
      " 21478978.11330055 22835422.18146878  5463827.74015225 12727618.04314282\n",
      " 11944741.41463636  9267946.1408307   9792699.52286392  4032345.70495042\n",
      "  9091134.92282728 11406352.3812691   4776502.80173365 36473250.16569941\n",
      " 13363331.69267227  8255070.05925212 15522672.04991998  6947266.83939623\n",
      "  4484310.00231425 16317959.05549127  8562234.18814257  6661891.02388063\n",
      "  3656062.66073957  8933217.14398824 25778719.31029284  4853708.30000491\n",
      "  8315416.42691707 19122801.03285362 17507843.26035612  3955464.53013803\n",
      "  8761357.39856106  4194555.27406768 11372487.18081763 15522672.04991998\n",
      "  5955226.17782469  7094628.75774742  3098655.84244235 12417375.30661913\n",
      " 11363119.36089562 11866470.16383491  2686456.93968799 15747306.83320666\n",
      " 12335853.08863437 13144057.9641802   7696755.14200518  3933320.84699291\n",
      "  8031866.06204069  8630882.50792532 10814337.68267899 11114169.55743666\n",
      "  6313667.05870041  3426866.67678258 10857980.4773369   3963224.26756076\n",
      "  7017346.62683963  3763233.96216745  5891321.57507592 12688641.03113933\n",
      "  8003798.7905675   7566823.45323844 18894660.28533558  4482159.38496329\n",
      "  3893041.33593959  2722823.31785096 22750205.45402436  4559953.0717384\n",
      " 11195061.75483293  8865916.78998472 12854525.12941122  4430777.73202668\n",
      " 22021269.54483504  6246446.00244309 14594756.87492258  3795307.44602065\n",
      "  8471197.14449713 13693591.95678518  7349522.50580122  9151982.59648909\n",
      " 10225115.64787411 12727618.04314282  6724635.62305034 10728405.70581233\n",
      " 10614799.15498171  4835923.0160805  11559499.03108495  6056621.97479858\n",
      " 11679512.84745369  8116633.68080341  9992067.57046632  6293582.37256473\n",
      "  8665301.14682793 11186991.22345154 17304027.17086937  4371834.86758897\n",
      "  9318013.82567217 18429720.60197045  8203228.42907831  9233460.38087153\n",
      "  8832049.84882032  5027941.13155432  4710042.81333183 12574127.70972545\n",
      " 12802193.74003121  2606055.19501509  7536945.619092   13954714.65208533\n",
      "  6371520.54374564 10326378.07126279 11555756.98393698  6462722.99068142\n",
      "  7178362.00292466  5384928.61624325 10092172.50168812 10945248.3886547\n",
      "  2747089.3685304   9310438.89128932 11113198.85856576  8805298.35968231\n",
      " 26127272.69869039 12629709.6524044   7734563.90159354  4559953.0717384\n",
      "  5048176.35475225  8503213.73208653  8773909.22964582  3315044.62382517\n",
      "  6374641.1734841  14808616.69104355  8124193.47052338 14261434.50710058\n",
      "  6794855.99190702  6331708.06726877 13376478.76851651  3529497.35775799\n",
      " 14638180.21413542 11919379.69786821 15003949.83780809  6487753.56772174\n",
      "  6163958.63965495  8825151.51265624 10149526.53191751 13292311.51561384\n",
      " 16234620.10827036  3186166.37927125  5855057.64802847  9988002.92536511\n",
      " 12219869.52740567  8160190.05713116  5451592.63978888 20020928.74958913\n",
      "  7597770.89393715  8629632.37133493  9350377.12857346  8661424.24686713\n",
      "  4913100.57164452 10019084.36213839  5371663.54323961 12078687.78634018\n",
      "  9620111.9766425   7723883.44312761  4599530.39084846 24276017.15557111\n",
      "  4516028.72989127 37915787.04562843  8083037.64690043  6289389.80762341\n",
      "  7923432.75169766 30085659.7039736  12594490.21950353 14198775.68595766\n",
      "  7713817.5361845   3194686.41073851  7381312.25151632  7066259.67977037\n",
      " 19241212.87981516  6133725.15240853 13002685.97478196  8160190.05713116\n",
      "  7644253.11532122  8380102.5846618  14987607.58866177 12734583.27673215\n",
      "  6256555.33377471  9640347.92734624 11114169.55743666 31390033.52519152\n",
      " 11678820.80134264 14155434.31577715  2723327.16140516  8230782.58052235\n",
      "  9627457.92997483  3250887.98607049  6535349.71835758  3656062.66073957\n",
      "  7644590.21217913 10586778.2865306   5635156.41067516  8525144.17809486\n",
      "  2726352.60689813  7010058.57639833 11403165.53086052  6260299.9232533\n",
      " 10167884.95644218 13158930.14363675  5256475.83026686  7981975.19279623\n",
      "  5647137.68480593  6792055.07797951  8797086.45611593 23758076.24564166\n",
      "  7183906.00817546 11715593.68964729 10066407.0691809  12158928.42651091\n",
      "  7380090.99840483 80533676.48662321 10320499.81661783 11186991.22345154\n",
      "  6266218.65338156 19167296.5099307   6210041.32960974 10666165.34063885\n",
      " 16507082.36283731  8092353.53650079 14598308.20142817  4502888.22465391\n",
      "  9887022.75124117  6800650.56886319  9229330.18880811 13726821.25352632\n",
      "  8990846.6240873  10061071.52219631 10540265.45255226 12072979.88519914\n",
      " 15297849.00566608  5749031.94216651  7644253.11532122  6404351.83955156\n",
      "  9234056.30241305 24296905.99773905  3032623.67021097 17840975.03142757\n",
      " 17217869.62679059  6734347.72358111  6422098.06010589 11150665.8688753\n",
      "  3572865.98224913  5881229.33032724  6769569.35258241 12884787.75555444\n",
      "  4380566.37590037  9032918.46025164 25779886.93003285 10244189.27944549\n",
      " 11446138.71472603 10092172.50168812 15892022.12731468  5384928.61624325\n",
      "  5490639.8791882  16843043.69575639  3333290.20900038 14598308.20142817\n",
      "  7005469.65093917  5302434.09575792 16801080.40822712  6900676.84165144\n",
      "  5865475.410112    3569429.04646968  6314046.99577872  7608445.06656093\n",
      "  8399644.6262992   7506343.00725092 30853212.9089129   9168823.84458652\n",
      "  5580553.59975541  2962517.35357665  3672005.0577944   9048875.15588703\n",
      "  5028467.55856519  7668142.69775705  8336182.64270219 10286742.33234971\n",
      " 14738348.49865534  4819690.45541537  4005473.73167972  3768071.71683916\n",
      "  2213244.28449585 12196066.79023597 14988356.83505284  4835176.09183056\n",
      "  9735299.9539168   3857890.5789108   6621026.42417928  6724718.41991702\n",
      "  6938725.37722315 10755991.61604838  3421620.9297219   5668522.42447454\n",
      " 16101613.56056033  7091111.70422432  4900319.14431866  9382668.7819051\n",
      " 11912510.15720343  2648472.45180388 11826355.66761064  8761357.39856106\n",
      "  8274157.81412344  2862181.39061282  4989107.97304173 10969488.31831732\n",
      " 10864157.6300449   5073550.50769108  6314704.7514037  48139779.75786179\n",
      "  8099148.14690394 29952511.8554939  16832286.81442332 13054281.97300312\n",
      "  5502162.16127337  7041483.71697097 10755991.61604838  6279878.74648053\n",
      " 12447548.25426809 11428717.32307182  6404351.83955156  8572142.73672547\n",
      "  7026967.16969602  3956821.18395695  6518938.05975904  8899548.31200939\n",
      " 15321410.28045286 24560401.59911685  5468506.63698198 48216955.27637923\n",
      "  8451679.50221816 14171764.78693379  8777624.46086385 15849071.66589023\n",
      " 11866563.61480445  5672426.93943257 29952511.8554939  11721304.45800381\n",
      "  9327646.10688009  9958031.48404767  9318013.82567217 19785434.15174842\n",
      " 18528500.63953557  7857594.62337096 13154553.61153918  4187456.06800392\n",
      "  4148992.62147023  5575051.61338045  4835176.09183056 10667604.28765944\n",
      "  4980048.55861054  3407353.42103058  9771665.55693978  8227244.65333436\n",
      " 13170291.76853829  6254215.99800774  6716074.11318188  7702669.19049599\n",
      " 14326658.64059073  4819690.45541537  6054354.1237376   3606707.98337059\n",
      " 10097321.60857041  9110495.59215611 10444577.56786902  6438620.21329138\n",
      " 14598071.25380635 36591516.5235448   4161035.99037363  8382314.11340781\n",
      " 10149526.53191751  7704648.06466164 12007962.08430875  2428937.41116833\n",
      "  6254484.43884957  6814963.78660981  5445389.51397543  9510669.53558176\n",
      "  8380102.5846618  12594490.21950353  7953887.33780065  7383878.02677874\n",
      " 13693591.95678518  6253222.88473078 10571337.3126854  12526239.61065977\n",
      " 11416126.77728667 11227193.36908358 80533676.48662321  6862618.13182265\n",
      "  6998478.9430819  10097321.60857041  8382314.11340781  3390363.4717669\n",
      " 13869727.1098422   3528367.42656633 15754545.86907112 47424616.22438745\n",
      " 10286742.33234971  9377343.87937828 10571337.3126854  19241212.87981516\n",
      " 12447548.25426809  7955079.64255045 11437943.89465509 18777546.83644256\n",
      " 10244189.27944549 16507082.36283731  5650187.39988128  8559340.37830204\n",
      " 20389978.31718643  2376859.15353879  4776517.77761951 80533676.48662321\n",
      "  9422328.63181523  5665186.92798801  7837202.80399646  3954829.91215799\n",
      "  7940772.88068616  6411363.03375515 17943214.77251765 16986210.7709775\n",
      " 13821776.19602855  4031707.10163549  8434024.95157226  5587643.72819271\n",
      "  9217397.41713871 80533676.48662321 12405442.01171456  4376994.98471489\n",
      "  5773488.79476525  4607601.1614386   8725672.25055938 14987607.58866177\n",
      "  8692161.17171282  7204814.14914751  8133437.54889461 15378940.31173142\n",
      " 12517080.63390311  7518842.09500479  7457680.67998545 13732088.2011706\n",
      " 12470406.80964139  5690619.91020331  5163279.53545056 28502944.58056241\n",
      " 14015554.93224549 10383903.94133833  5736553.62669454  9158000.55946337\n",
      "  6234591.82938504 17846391.0247471  23553986.09477244  5005123.56082836\n",
      "  8212458.71264193 10007294.33510603 14847620.32409515 11767276.7753499\n",
      "  7492056.10892121  2618884.28578419  6447061.04999871  5621238.46666399\n",
      " 16148813.63246395  9374187.85206311  4734286.10182162  4180805.34702053\n",
      "  2917768.54778329 12298742.18184364  6403356.31233103 12094355.63278619\n",
      " 11923006.70662589  7005469.65093917 14806681.51897555 14540509.026683\n",
      " 27961614.5342657  18304511.63290948 11894239.30269813  7146833.57775644\n",
      " 15915788.76003661 13713380.02601718 12864554.98608723 23773079.21495708\n",
      "  9225190.62815649 20677177.15718476 14847620.32409515  3933320.84699291\n",
      "  7146833.57775644 24560401.59911685 12774784.21880474  9041616.4750632\n",
      " 12308494.97941177  2632363.74524796  5482304.45694043  5185598.61767215\n",
      "  4941226.63081731  5806346.1753119   8925584.31356556 11779951.48504612\n",
      " 12007341.40345571 14650938.05941692  4350864.58980445  9393678.45868006\n",
      " 46151409.92965955  9625894.68425012  6689572.01166676 16801080.40822712\n",
      "  7044779.29242707  4815008.65356001 25491452.50763807  6992448.57505122\n",
      " 30352474.02229959  2715564.86800205 14254315.47352665 16588478.18030692\n",
      "  5829602.43073946  1677775.21905426  9245415.28584355  7631854.67215314\n",
      "  1907748.68960427  5488941.70985927  4993680.1074709   7653029.74400177\n",
      "  6303137.62657795 10003145.71402453  5288390.53324124  5053477.5040469\n",
      "  3558180.81681809  6279878.74648053 12390174.56390372  2351120.36562551\n",
      "  7839102.92273746  6196463.35812187  5414220.25567398  3991627.94823598\n",
      "  5232051.93380826 10482236.57309784 14303067.44009467 12292366.13606556\n",
      " 21310839.36418615 13363331.69267227 12475783.72780219 17317172.86648231\n",
      "  9190935.09904668 14802998.85652209 12864554.98608723 18120892.95864871\n",
      " 17535317.86819465 12064502.66102565  6546595.53472249 12518259.30281754\n",
      " 20020928.74958913  5570643.84508961 10196287.40333349  3043518.30350324\n",
      " 21814191.65317496  6229381.53097484  9267946.1408307   7026419.69438093\n",
      " 15098293.40701522  2636128.89241736  5750075.26860164 15308719.07720855\n",
      "  4176026.37871295  3801821.13685819  6219895.29992998 13611058.73831487\n",
      " 11603510.1355858  46151409.92965955  3312100.94008279  3947870.81602594\n",
      "  4930051.43145501 11778960.38115773  9254134.08542499 30423508.87270312\n",
      " 12094355.63278619  8138219.05604658  3828538.82780037  6408526.12306293\n",
      "  3895225.82963449 10266514.65035282 13611058.73831487  9174723.46470368\n",
      " 14015554.93224549 14237101.20306242 20764594.47874848  7186359.51813374\n",
      " 13856491.57896897 12285459.35692313  2021471.44747091 10145099.80160807\n",
      " 11207974.2282896   9968906.63098162 10460481.40079296  4980882.49087151\n",
      " 14638180.21413542  6427372.35236287  8272345.93348306 10403675.16412602\n",
      " 32348481.17399958  7347017.98077317  7304937.55534916  9479368.50666879\n",
      " 25775211.24145492  5333421.6896612   4254114.43486454 31234919.13117735\n",
      "  7113365.53228186  3880965.83988829 11483416.89437591 18789434.15021022\n",
      " 10891821.99715653  4040094.58457772  4906400.8274057   5359558.32863986\n",
      " 10544690.49490656 17317172.86648231  4458594.09830946 14423214.31566257\n",
      "  8272345.93348306  5028467.55856519  5734600.35250127  3357518.98109817\n",
      " 15013367.01370492  8710267.99331492  4428052.24240936  8767225.22232359\n",
      "  3857890.5789108   8356669.69864574 13359295.87050264 11178400.82630652\n",
      " 15308719.07720855  4993680.1074709  11715593.68964729 12020912.35321657\n",
      "  9422328.63181523  3194686.41073851 17074756.11078959  5179953.27453738\n",
      " 10864157.6300449  10523202.02099     6685064.75420341 38989259.65651076\n",
      " 10650755.69230066 11674402.53856665  3453051.63535937  7018320.51844865\n",
      " 25157439.77495163  7663390.52149292  7215215.0431959   9315270.51898483\n",
      "  6769569.35258241  8692161.17171282 12672385.02753535  9874566.87530338\n",
      " 10060214.86453049  6227916.98928816  5721672.28809698  3897810.28133479\n",
      " 10465954.12466013 10069780.74021098 12160733.83606796 39097180.40646569\n",
      " 12597179.12366552  7521221.73862598  8305585.40139367  8286636.04278876\n",
      "  7663390.52149292 10558183.91862315  6734052.40895133  4317315.85243072\n",
      "  6308832.86011696 11779164.57974704  9414954.22459055 12160733.83606796\n",
      "  8255070.05925212 12343420.4326674  24048420.69998141  6445598.41675391\n",
      "  8092353.53650079  9790496.39144011  6888039.76278618 10834060.95678063\n",
      "  7431790.01501152  6681795.09211131 14426242.04673504 41722227.17876499\n",
      " 10061071.52219631  6779477.0838438   8027943.72636629  3453051.63535937\n",
      "  5018193.86615549 19530979.69234096 12025899.66641688  9642257.78974355\n",
      "  8158131.03618611 10320499.81661783  9030228.1234429   7686876.3796485\n",
      " 11333309.57270994 27174039.83812346 31234919.13117735 12417375.30661913\n",
      " 10681190.81834176  5132480.848578    3826757.14088138  3115986.64815458\n",
      " 14289029.33910698  9698467.13419073 11290873.52196623  5321546.01501431\n",
      " 16596380.25870187  7871670.31973905  6636450.03488012 14295929.23908464\n",
      "  5911478.20365851 11590178.95239878 12912106.0238948  19576665.36500848\n",
      " 33145588.86931244  3803348.58985813 15892022.12731468 22678142.93652981\n",
      " 22246484.56929553]\n"
     ]
    }
   ],
   "source": [
    "print(ensemble)"
   ]
  },
  {
   "cell_type": "code",
   "execution_count": 76,
   "metadata": {},
   "outputs": [
    {
     "name": "stdout",
     "output_type": "stream",
     "text": [
      "RMSE is :  3953108.9148023063\n"
     ]
    }
   ],
   "source": [
    "#RMSE\n",
    "print ('RMSE is : ',np.sqrt(mean_squared_error(AcctualValues,ensemble)))"
   ]
  },
  {
   "cell_type": "code",
   "execution_count": 77,
   "metadata": {
    "scrolled": false
   },
   "outputs": [
    {
     "name": "stdout",
     "output_type": "stream",
     "text": [
      "R Squared is :  0.8346834979868675\n"
     ]
    }
   ],
   "source": [
    "#R Squared\n",
    "print ('R Squared is : ',1- mean_squared_error(AcctualValues,ensemble)/ np.var(AcctualValues))"
   ]
  },
  {
   "cell_type": "code",
   "execution_count": 78,
   "metadata": {
    "scrolled": true
   },
   "outputs": [
    {
     "name": "stderr",
     "output_type": "stream",
     "text": [
      "<ipython-input-78-362d5b1305e5>:1: SettingWithCopyWarning: \n",
      "A value is trying to be set on a copy of a slice from a DataFrame.\n",
      "Try using .loc[row_indexer,col_indexer] = value instead\n",
      "\n",
      "See the caveats in the documentation: https://pandas.pydata.org/pandas-docs/stable/user_guide/indexing.html#returning-a-view-versus-a-copy\n",
      "  test_RealPrice['HouseAge'] = test_RealPrice['HouseAge'].fillna(0)\n"
     ]
    },
    {
     "data": {
      "text/html": [
       "<div>\n",
       "<style scoped>\n",
       "    .dataframe tbody tr th:only-of-type {\n",
       "        vertical-align: middle;\n",
       "    }\n",
       "\n",
       "    .dataframe tbody tr th {\n",
       "        vertical-align: top;\n",
       "    }\n",
       "\n",
       "    .dataframe thead th {\n",
       "        text-align: right;\n",
       "    }\n",
       "</style>\n",
       "<table border=\"1\" class=\"dataframe\">\n",
       "  <thead>\n",
       "    <tr style=\"text-align: right;\">\n",
       "      <th></th>\n",
       "      <th>LandHoldArea</th>\n",
       "      <th>BuildLayerArea</th>\n",
       "      <th>AdjBuildArea</th>\n",
       "      <th>AreaItem</th>\n",
       "      <th>CityItem</th>\n",
       "      <th>AreaRank</th>\n",
       "      <th>TotalArea</th>\n",
       "      <th>HouseAge</th>\n",
       "      <th>BuildPurpose_A</th>\n",
       "      <th>BuildPurpose_B</th>\n",
       "      <th>...</th>\n",
       "      <th>BuildType_99</th>\n",
       "      <th>BuildType_B1</th>\n",
       "      <th>BuildType_B2</th>\n",
       "      <th>BuildType_B3</th>\n",
       "      <th>BuildType_R1</th>\n",
       "      <th>BuildType_R2</th>\n",
       "      <th>BuildType_R3</th>\n",
       "      <th>BuildType_R4</th>\n",
       "      <th>BuildType_R5</th>\n",
       "      <th>BuildType_R6</th>\n",
       "    </tr>\n",
       "  </thead>\n",
       "  <tbody>\n",
       "    <tr>\n",
       "      <th>4374</th>\n",
       "      <td>0.251488</td>\n",
       "      <td>5.002462</td>\n",
       "      <td>0.0</td>\n",
       "      <td>19</td>\n",
       "      <td>2</td>\n",
       "      <td>2.440268</td>\n",
       "      <td>5.014162</td>\n",
       "      <td>3.138425</td>\n",
       "      <td>0</td>\n",
       "      <td>0</td>\n",
       "      <td>...</td>\n",
       "      <td>1</td>\n",
       "      <td>0</td>\n",
       "      <td>0</td>\n",
       "      <td>0</td>\n",
       "      <td>0</td>\n",
       "      <td>0</td>\n",
       "      <td>0</td>\n",
       "      <td>0</td>\n",
       "      <td>0</td>\n",
       "      <td>0</td>\n",
       "    </tr>\n",
       "    <tr>\n",
       "      <th>4375</th>\n",
       "      <td>0.019832</td>\n",
       "      <td>5.082600</td>\n",
       "      <td>0.0</td>\n",
       "      <td>19</td>\n",
       "      <td>2</td>\n",
       "      <td>2.440268</td>\n",
       "      <td>5.083406</td>\n",
       "      <td>5.323356</td>\n",
       "      <td>0</td>\n",
       "      <td>0</td>\n",
       "      <td>...</td>\n",
       "      <td>0</td>\n",
       "      <td>0</td>\n",
       "      <td>0</td>\n",
       "      <td>0</td>\n",
       "      <td>0</td>\n",
       "      <td>1</td>\n",
       "      <td>0</td>\n",
       "      <td>0</td>\n",
       "      <td>0</td>\n",
       "      <td>0</td>\n",
       "    </tr>\n",
       "    <tr>\n",
       "      <th>4376</th>\n",
       "      <td>2.391730</td>\n",
       "      <td>6.033963</td>\n",
       "      <td>0.0</td>\n",
       "      <td>19</td>\n",
       "      <td>2</td>\n",
       "      <td>2.440268</td>\n",
       "      <td>6.201799</td>\n",
       "      <td>4.837065</td>\n",
       "      <td>1</td>\n",
       "      <td>0</td>\n",
       "      <td>...</td>\n",
       "      <td>0</td>\n",
       "      <td>0</td>\n",
       "      <td>0</td>\n",
       "      <td>0</td>\n",
       "      <td>0</td>\n",
       "      <td>1</td>\n",
       "      <td>0</td>\n",
       "      <td>0</td>\n",
       "      <td>0</td>\n",
       "      <td>0</td>\n",
       "    </tr>\n",
       "    <tr>\n",
       "      <th>4377</th>\n",
       "      <td>8.249153</td>\n",
       "      <td>10.008211</td>\n",
       "      <td>0.0</td>\n",
       "      <td>153</td>\n",
       "      <td>2</td>\n",
       "      <td>2.259674</td>\n",
       "      <td>11.006300</td>\n",
       "      <td>2.438645</td>\n",
       "      <td>1</td>\n",
       "      <td>0</td>\n",
       "      <td>...</td>\n",
       "      <td>0</td>\n",
       "      <td>0</td>\n",
       "      <td>0</td>\n",
       "      <td>0</td>\n",
       "      <td>0</td>\n",
       "      <td>1</td>\n",
       "      <td>0</td>\n",
       "      <td>0</td>\n",
       "      <td>0</td>\n",
       "      <td>0</td>\n",
       "    </tr>\n",
       "    <tr>\n",
       "      <th>4378</th>\n",
       "      <td>4.105019</td>\n",
       "      <td>7.010707</td>\n",
       "      <td>0.0</td>\n",
       "      <td>19</td>\n",
       "      <td>2</td>\n",
       "      <td>2.440268</td>\n",
       "      <td>7.381442</td>\n",
       "      <td>4.648198</td>\n",
       "      <td>1</td>\n",
       "      <td>0</td>\n",
       "      <td>...</td>\n",
       "      <td>0</td>\n",
       "      <td>0</td>\n",
       "      <td>0</td>\n",
       "      <td>0</td>\n",
       "      <td>0</td>\n",
       "      <td>1</td>\n",
       "      <td>0</td>\n",
       "      <td>0</td>\n",
       "      <td>0</td>\n",
       "      <td>0</td>\n",
       "    </tr>\n",
       "    <tr>\n",
       "      <th>...</th>\n",
       "      <td>...</td>\n",
       "      <td>...</td>\n",
       "      <td>...</td>\n",
       "      <td>...</td>\n",
       "      <td>...</td>\n",
       "      <td>...</td>\n",
       "      <td>...</td>\n",
       "      <td>...</td>\n",
       "      <td>...</td>\n",
       "      <td>...</td>\n",
       "      <td>...</td>\n",
       "      <td>...</td>\n",
       "      <td>...</td>\n",
       "      <td>...</td>\n",
       "      <td>...</td>\n",
       "      <td>...</td>\n",
       "      <td>...</td>\n",
       "      <td>...</td>\n",
       "      <td>...</td>\n",
       "      <td>...</td>\n",
       "      <td>...</td>\n",
       "    </tr>\n",
       "    <tr>\n",
       "      <th>773618</th>\n",
       "      <td>5.949138</td>\n",
       "      <td>8.663811</td>\n",
       "      <td>0.0</td>\n",
       "      <td>335</td>\n",
       "      <td>15</td>\n",
       "      <td>1.540963</td>\n",
       "      <td>9.221251</td>\n",
       "      <td>4.264939</td>\n",
       "      <td>0</td>\n",
       "      <td>0</td>\n",
       "      <td>...</td>\n",
       "      <td>0</td>\n",
       "      <td>0</td>\n",
       "      <td>0</td>\n",
       "      <td>0</td>\n",
       "      <td>0</td>\n",
       "      <td>0</td>\n",
       "      <td>0</td>\n",
       "      <td>0</td>\n",
       "      <td>1</td>\n",
       "      <td>0</td>\n",
       "    </tr>\n",
       "    <tr>\n",
       "      <th>773619</th>\n",
       "      <td>5.751206</td>\n",
       "      <td>6.252030</td>\n",
       "      <td>0.0</td>\n",
       "      <td>335</td>\n",
       "      <td>15</td>\n",
       "      <td>1.540963</td>\n",
       "      <td>7.390650</td>\n",
       "      <td>5.011639</td>\n",
       "      <td>1</td>\n",
       "      <td>0</td>\n",
       "      <td>...</td>\n",
       "      <td>0</td>\n",
       "      <td>0</td>\n",
       "      <td>0</td>\n",
       "      <td>0</td>\n",
       "      <td>0</td>\n",
       "      <td>0</td>\n",
       "      <td>0</td>\n",
       "      <td>0</td>\n",
       "      <td>1</td>\n",
       "      <td>0</td>\n",
       "    </tr>\n",
       "    <tr>\n",
       "      <th>773620</th>\n",
       "      <td>4.003419</td>\n",
       "      <td>5.846895</td>\n",
       "      <td>0.0</td>\n",
       "      <td>335</td>\n",
       "      <td>15</td>\n",
       "      <td>1.540963</td>\n",
       "      <td>6.394652</td>\n",
       "      <td>5.173716</td>\n",
       "      <td>0</td>\n",
       "      <td>0</td>\n",
       "      <td>...</td>\n",
       "      <td>0</td>\n",
       "      <td>0</td>\n",
       "      <td>0</td>\n",
       "      <td>0</td>\n",
       "      <td>0</td>\n",
       "      <td>0</td>\n",
       "      <td>0</td>\n",
       "      <td>0</td>\n",
       "      <td>1</td>\n",
       "      <td>0</td>\n",
       "    </tr>\n",
       "    <tr>\n",
       "      <th>773621</th>\n",
       "      <td>4.320002</td>\n",
       "      <td>7.888701</td>\n",
       "      <td>0.0</td>\n",
       "      <td>335</td>\n",
       "      <td>15</td>\n",
       "      <td>1.540963</td>\n",
       "      <td>8.192876</td>\n",
       "      <td>3.337695</td>\n",
       "      <td>0</td>\n",
       "      <td>0</td>\n",
       "      <td>...</td>\n",
       "      <td>0</td>\n",
       "      <td>0</td>\n",
       "      <td>0</td>\n",
       "      <td>0</td>\n",
       "      <td>0</td>\n",
       "      <td>1</td>\n",
       "      <td>0</td>\n",
       "      <td>0</td>\n",
       "      <td>0</td>\n",
       "      <td>0</td>\n",
       "    </tr>\n",
       "    <tr>\n",
       "      <th>773622</th>\n",
       "      <td>4.725062</td>\n",
       "      <td>7.909338</td>\n",
       "      <td>0.0</td>\n",
       "      <td>335</td>\n",
       "      <td>15</td>\n",
       "      <td>1.540963</td>\n",
       "      <td>8.290739</td>\n",
       "      <td>4.542182</td>\n",
       "      <td>1</td>\n",
       "      <td>0</td>\n",
       "      <td>...</td>\n",
       "      <td>0</td>\n",
       "      <td>0</td>\n",
       "      <td>0</td>\n",
       "      <td>0</td>\n",
       "      <td>0</td>\n",
       "      <td>1</td>\n",
       "      <td>0</td>\n",
       "      <td>0</td>\n",
       "      <td>0</td>\n",
       "      <td>0</td>\n",
       "    </tr>\n",
       "  </tbody>\n",
       "</table>\n",
       "<p>769249 rows × 57 columns</p>\n",
       "</div>"
      ],
      "text/plain": [
       "        LandHoldArea  BuildLayerArea  AdjBuildArea  AreaItem  CityItem  \\\n",
       "4374        0.251488        5.002462           0.0        19         2   \n",
       "4375        0.019832        5.082600           0.0        19         2   \n",
       "4376        2.391730        6.033963           0.0        19         2   \n",
       "4377        8.249153       10.008211           0.0       153         2   \n",
       "4378        4.105019        7.010707           0.0        19         2   \n",
       "...              ...             ...           ...       ...       ...   \n",
       "773618      5.949138        8.663811           0.0       335        15   \n",
       "773619      5.751206        6.252030           0.0       335        15   \n",
       "773620      4.003419        5.846895           0.0       335        15   \n",
       "773621      4.320002        7.888701           0.0       335        15   \n",
       "773622      4.725062        7.909338           0.0       335        15   \n",
       "\n",
       "        AreaRank  TotalArea  HouseAge  BuildPurpose_A  BuildPurpose_B  ...  \\\n",
       "4374    2.440268   5.014162  3.138425               0               0  ...   \n",
       "4375    2.440268   5.083406  5.323356               0               0  ...   \n",
       "4376    2.440268   6.201799  4.837065               1               0  ...   \n",
       "4377    2.259674  11.006300  2.438645               1               0  ...   \n",
       "4378    2.440268   7.381442  4.648198               1               0  ...   \n",
       "...          ...        ...       ...             ...             ...  ...   \n",
       "773618  1.540963   9.221251  4.264939               0               0  ...   \n",
       "773619  1.540963   7.390650  5.011639               1               0  ...   \n",
       "773620  1.540963   6.394652  5.173716               0               0  ...   \n",
       "773621  1.540963   8.192876  3.337695               0               0  ...   \n",
       "773622  1.540963   8.290739  4.542182               1               0  ...   \n",
       "\n",
       "        BuildType_99  BuildType_B1  BuildType_B2  BuildType_B3  BuildType_R1  \\\n",
       "4374               1             0             0             0             0   \n",
       "4375               0             0             0             0             0   \n",
       "4376               0             0             0             0             0   \n",
       "4377               0             0             0             0             0   \n",
       "4378               0             0             0             0             0   \n",
       "...              ...           ...           ...           ...           ...   \n",
       "773618             0             0             0             0             0   \n",
       "773619             0             0             0             0             0   \n",
       "773620             0             0             0             0             0   \n",
       "773621             0             0             0             0             0   \n",
       "773622             0             0             0             0             0   \n",
       "\n",
       "        BuildType_R2  BuildType_R3  BuildType_R4  BuildType_R5  BuildType_R6  \n",
       "4374               0             0             0             0             0  \n",
       "4375               1             0             0             0             0  \n",
       "4376               1             0             0             0             0  \n",
       "4377               1             0             0             0             0  \n",
       "4378               1             0             0             0             0  \n",
       "...              ...           ...           ...           ...           ...  \n",
       "773618             0             0             0             1             0  \n",
       "773619             0             0             0             1             0  \n",
       "773620             0             0             0             1             0  \n",
       "773621             1             0             0             0             0  \n",
       "773622             1             0             0             0             0  \n",
       "\n",
       "[769249 rows x 57 columns]"
      ]
     },
     "execution_count": 78,
     "metadata": {},
     "output_type": "execute_result"
    }
   ],
   "source": [
    "test_RealPrice['HouseAge'] = test_RealPrice['HouseAge'].fillna(0)\n",
    "test_RealPrice"
   ]
  },
  {
   "cell_type": "code",
   "execution_count": 79,
   "metadata": {},
   "outputs": [
    {
     "data": {
      "text/html": [
       "<div>\n",
       "<style scoped>\n",
       "    .dataframe tbody tr th:only-of-type {\n",
       "        vertical-align: middle;\n",
       "    }\n",
       "\n",
       "    .dataframe tbody tr th {\n",
       "        vertical-align: top;\n",
       "    }\n",
       "\n",
       "    .dataframe thead th {\n",
       "        text-align: right;\n",
       "    }\n",
       "</style>\n",
       "<table border=\"1\" class=\"dataframe\">\n",
       "  <thead>\n",
       "    <tr style=\"text-align: right;\">\n",
       "      <th></th>\n",
       "      <th>LandHoldArea</th>\n",
       "      <th>BuildLayerArea</th>\n",
       "      <th>AdjBuildArea</th>\n",
       "      <th>AreaItem</th>\n",
       "      <th>CityItem</th>\n",
       "      <th>AreaRank</th>\n",
       "      <th>TotalArea</th>\n",
       "      <th>HouseAge</th>\n",
       "      <th>BuildPurpose_A</th>\n",
       "      <th>BuildPurpose_B</th>\n",
       "      <th>...</th>\n",
       "      <th>BuildType_99</th>\n",
       "      <th>BuildType_B1</th>\n",
       "      <th>BuildType_B2</th>\n",
       "      <th>BuildType_B3</th>\n",
       "      <th>BuildType_R1</th>\n",
       "      <th>BuildType_R2</th>\n",
       "      <th>BuildType_R3</th>\n",
       "      <th>BuildType_R4</th>\n",
       "      <th>BuildType_R5</th>\n",
       "      <th>BuildType_R6</th>\n",
       "    </tr>\n",
       "  </thead>\n",
       "  <tbody>\n",
       "    <tr>\n",
       "      <th>4374</th>\n",
       "      <td>0.251488</td>\n",
       "      <td>5.002462</td>\n",
       "      <td>0.0</td>\n",
       "      <td>19</td>\n",
       "      <td>2</td>\n",
       "      <td>2.440268</td>\n",
       "      <td>5.014162</td>\n",
       "      <td>3.138425</td>\n",
       "      <td>0</td>\n",
       "      <td>0</td>\n",
       "      <td>...</td>\n",
       "      <td>1</td>\n",
       "      <td>0</td>\n",
       "      <td>0</td>\n",
       "      <td>0</td>\n",
       "      <td>0</td>\n",
       "      <td>0</td>\n",
       "      <td>0</td>\n",
       "      <td>0</td>\n",
       "      <td>0</td>\n",
       "      <td>0</td>\n",
       "    </tr>\n",
       "    <tr>\n",
       "      <th>4375</th>\n",
       "      <td>0.019832</td>\n",
       "      <td>5.082600</td>\n",
       "      <td>0.0</td>\n",
       "      <td>19</td>\n",
       "      <td>2</td>\n",
       "      <td>2.440268</td>\n",
       "      <td>5.083406</td>\n",
       "      <td>5.323356</td>\n",
       "      <td>0</td>\n",
       "      <td>0</td>\n",
       "      <td>...</td>\n",
       "      <td>0</td>\n",
       "      <td>0</td>\n",
       "      <td>0</td>\n",
       "      <td>0</td>\n",
       "      <td>0</td>\n",
       "      <td>1</td>\n",
       "      <td>0</td>\n",
       "      <td>0</td>\n",
       "      <td>0</td>\n",
       "      <td>0</td>\n",
       "    </tr>\n",
       "    <tr>\n",
       "      <th>4376</th>\n",
       "      <td>2.391730</td>\n",
       "      <td>6.033963</td>\n",
       "      <td>0.0</td>\n",
       "      <td>19</td>\n",
       "      <td>2</td>\n",
       "      <td>2.440268</td>\n",
       "      <td>6.201799</td>\n",
       "      <td>4.837065</td>\n",
       "      <td>1</td>\n",
       "      <td>0</td>\n",
       "      <td>...</td>\n",
       "      <td>0</td>\n",
       "      <td>0</td>\n",
       "      <td>0</td>\n",
       "      <td>0</td>\n",
       "      <td>0</td>\n",
       "      <td>1</td>\n",
       "      <td>0</td>\n",
       "      <td>0</td>\n",
       "      <td>0</td>\n",
       "      <td>0</td>\n",
       "    </tr>\n",
       "    <tr>\n",
       "      <th>4377</th>\n",
       "      <td>8.249153</td>\n",
       "      <td>10.008211</td>\n",
       "      <td>0.0</td>\n",
       "      <td>153</td>\n",
       "      <td>2</td>\n",
       "      <td>2.259674</td>\n",
       "      <td>11.006300</td>\n",
       "      <td>2.438645</td>\n",
       "      <td>1</td>\n",
       "      <td>0</td>\n",
       "      <td>...</td>\n",
       "      <td>0</td>\n",
       "      <td>0</td>\n",
       "      <td>0</td>\n",
       "      <td>0</td>\n",
       "      <td>0</td>\n",
       "      <td>1</td>\n",
       "      <td>0</td>\n",
       "      <td>0</td>\n",
       "      <td>0</td>\n",
       "      <td>0</td>\n",
       "    </tr>\n",
       "    <tr>\n",
       "      <th>4378</th>\n",
       "      <td>4.105019</td>\n",
       "      <td>7.010707</td>\n",
       "      <td>0.0</td>\n",
       "      <td>19</td>\n",
       "      <td>2</td>\n",
       "      <td>2.440268</td>\n",
       "      <td>7.381442</td>\n",
       "      <td>4.648198</td>\n",
       "      <td>1</td>\n",
       "      <td>0</td>\n",
       "      <td>...</td>\n",
       "      <td>0</td>\n",
       "      <td>0</td>\n",
       "      <td>0</td>\n",
       "      <td>0</td>\n",
       "      <td>0</td>\n",
       "      <td>1</td>\n",
       "      <td>0</td>\n",
       "      <td>0</td>\n",
       "      <td>0</td>\n",
       "      <td>0</td>\n",
       "    </tr>\n",
       "    <tr>\n",
       "      <th>...</th>\n",
       "      <td>...</td>\n",
       "      <td>...</td>\n",
       "      <td>...</td>\n",
       "      <td>...</td>\n",
       "      <td>...</td>\n",
       "      <td>...</td>\n",
       "      <td>...</td>\n",
       "      <td>...</td>\n",
       "      <td>...</td>\n",
       "      <td>...</td>\n",
       "      <td>...</td>\n",
       "      <td>...</td>\n",
       "      <td>...</td>\n",
       "      <td>...</td>\n",
       "      <td>...</td>\n",
       "      <td>...</td>\n",
       "      <td>...</td>\n",
       "      <td>...</td>\n",
       "      <td>...</td>\n",
       "      <td>...</td>\n",
       "      <td>...</td>\n",
       "    </tr>\n",
       "    <tr>\n",
       "      <th>773618</th>\n",
       "      <td>5.949138</td>\n",
       "      <td>8.663811</td>\n",
       "      <td>0.0</td>\n",
       "      <td>335</td>\n",
       "      <td>15</td>\n",
       "      <td>1.540963</td>\n",
       "      <td>9.221251</td>\n",
       "      <td>4.264939</td>\n",
       "      <td>0</td>\n",
       "      <td>0</td>\n",
       "      <td>...</td>\n",
       "      <td>0</td>\n",
       "      <td>0</td>\n",
       "      <td>0</td>\n",
       "      <td>0</td>\n",
       "      <td>0</td>\n",
       "      <td>0</td>\n",
       "      <td>0</td>\n",
       "      <td>0</td>\n",
       "      <td>1</td>\n",
       "      <td>0</td>\n",
       "    </tr>\n",
       "    <tr>\n",
       "      <th>773619</th>\n",
       "      <td>5.751206</td>\n",
       "      <td>6.252030</td>\n",
       "      <td>0.0</td>\n",
       "      <td>335</td>\n",
       "      <td>15</td>\n",
       "      <td>1.540963</td>\n",
       "      <td>7.390650</td>\n",
       "      <td>5.011639</td>\n",
       "      <td>1</td>\n",
       "      <td>0</td>\n",
       "      <td>...</td>\n",
       "      <td>0</td>\n",
       "      <td>0</td>\n",
       "      <td>0</td>\n",
       "      <td>0</td>\n",
       "      <td>0</td>\n",
       "      <td>0</td>\n",
       "      <td>0</td>\n",
       "      <td>0</td>\n",
       "      <td>1</td>\n",
       "      <td>0</td>\n",
       "    </tr>\n",
       "    <tr>\n",
       "      <th>773620</th>\n",
       "      <td>4.003419</td>\n",
       "      <td>5.846895</td>\n",
       "      <td>0.0</td>\n",
       "      <td>335</td>\n",
       "      <td>15</td>\n",
       "      <td>1.540963</td>\n",
       "      <td>6.394652</td>\n",
       "      <td>5.173716</td>\n",
       "      <td>0</td>\n",
       "      <td>0</td>\n",
       "      <td>...</td>\n",
       "      <td>0</td>\n",
       "      <td>0</td>\n",
       "      <td>0</td>\n",
       "      <td>0</td>\n",
       "      <td>0</td>\n",
       "      <td>0</td>\n",
       "      <td>0</td>\n",
       "      <td>0</td>\n",
       "      <td>1</td>\n",
       "      <td>0</td>\n",
       "    </tr>\n",
       "    <tr>\n",
       "      <th>773621</th>\n",
       "      <td>4.320002</td>\n",
       "      <td>7.888701</td>\n",
       "      <td>0.0</td>\n",
       "      <td>335</td>\n",
       "      <td>15</td>\n",
       "      <td>1.540963</td>\n",
       "      <td>8.192876</td>\n",
       "      <td>3.337695</td>\n",
       "      <td>0</td>\n",
       "      <td>0</td>\n",
       "      <td>...</td>\n",
       "      <td>0</td>\n",
       "      <td>0</td>\n",
       "      <td>0</td>\n",
       "      <td>0</td>\n",
       "      <td>0</td>\n",
       "      <td>1</td>\n",
       "      <td>0</td>\n",
       "      <td>0</td>\n",
       "      <td>0</td>\n",
       "      <td>0</td>\n",
       "    </tr>\n",
       "    <tr>\n",
       "      <th>773622</th>\n",
       "      <td>4.725062</td>\n",
       "      <td>7.909338</td>\n",
       "      <td>0.0</td>\n",
       "      <td>335</td>\n",
       "      <td>15</td>\n",
       "      <td>1.540963</td>\n",
       "      <td>8.290739</td>\n",
       "      <td>4.542182</td>\n",
       "      <td>1</td>\n",
       "      <td>0</td>\n",
       "      <td>...</td>\n",
       "      <td>0</td>\n",
       "      <td>0</td>\n",
       "      <td>0</td>\n",
       "      <td>0</td>\n",
       "      <td>0</td>\n",
       "      <td>1</td>\n",
       "      <td>0</td>\n",
       "      <td>0</td>\n",
       "      <td>0</td>\n",
       "      <td>0</td>\n",
       "    </tr>\n",
       "  </tbody>\n",
       "</table>\n",
       "<p>769249 rows × 57 columns</p>\n",
       "</div>"
      ],
      "text/plain": [
       "        LandHoldArea  BuildLayerArea  AdjBuildArea  AreaItem  CityItem  \\\n",
       "4374        0.251488        5.002462           0.0        19         2   \n",
       "4375        0.019832        5.082600           0.0        19         2   \n",
       "4376        2.391730        6.033963           0.0        19         2   \n",
       "4377        8.249153       10.008211           0.0       153         2   \n",
       "4378        4.105019        7.010707           0.0        19         2   \n",
       "...              ...             ...           ...       ...       ...   \n",
       "773618      5.949138        8.663811           0.0       335        15   \n",
       "773619      5.751206        6.252030           0.0       335        15   \n",
       "773620      4.003419        5.846895           0.0       335        15   \n",
       "773621      4.320002        7.888701           0.0       335        15   \n",
       "773622      4.725062        7.909338           0.0       335        15   \n",
       "\n",
       "        AreaRank  TotalArea  HouseAge  BuildPurpose_A  BuildPurpose_B  ...  \\\n",
       "4374    2.440268   5.014162  3.138425               0               0  ...   \n",
       "4375    2.440268   5.083406  5.323356               0               0  ...   \n",
       "4376    2.440268   6.201799  4.837065               1               0  ...   \n",
       "4377    2.259674  11.006300  2.438645               1               0  ...   \n",
       "4378    2.440268   7.381442  4.648198               1               0  ...   \n",
       "...          ...        ...       ...             ...             ...  ...   \n",
       "773618  1.540963   9.221251  4.264939               0               0  ...   \n",
       "773619  1.540963   7.390650  5.011639               1               0  ...   \n",
       "773620  1.540963   6.394652  5.173716               0               0  ...   \n",
       "773621  1.540963   8.192876  3.337695               0               0  ...   \n",
       "773622  1.540963   8.290739  4.542182               1               0  ...   \n",
       "\n",
       "        BuildType_99  BuildType_B1  BuildType_B2  BuildType_B3  BuildType_R1  \\\n",
       "4374               1             0             0             0             0   \n",
       "4375               0             0             0             0             0   \n",
       "4376               0             0             0             0             0   \n",
       "4377               0             0             0             0             0   \n",
       "4378               0             0             0             0             0   \n",
       "...              ...           ...           ...           ...           ...   \n",
       "773618             0             0             0             0             0   \n",
       "773619             0             0             0             0             0   \n",
       "773620             0             0             0             0             0   \n",
       "773621             0             0             0             0             0   \n",
       "773622             0             0             0             0             0   \n",
       "\n",
       "        BuildType_R2  BuildType_R3  BuildType_R4  BuildType_R5  BuildType_R6  \n",
       "4374               0             0             0             0             0  \n",
       "4375               1             0             0             0             0  \n",
       "4376               1             0             0             0             0  \n",
       "4377               1             0             0             0             0  \n",
       "4378               1             0             0             0             0  \n",
       "...              ...           ...           ...           ...           ...  \n",
       "773618             0             0             0             1             0  \n",
       "773619             0             0             0             1             0  \n",
       "773620             0             0             0             1             0  \n",
       "773621             1             0             0             0             0  \n",
       "773622             1             0             0             0             0  \n",
       "\n",
       "[769249 rows x 57 columns]"
      ]
     },
     "execution_count": 79,
     "metadata": {},
     "output_type": "execute_result"
    }
   ],
   "source": [
    "spilit = test_RealPrice\n",
    "spilit"
   ]
  },
  {
   "cell_type": "code",
   "execution_count": 80,
   "metadata": {},
   "outputs": [],
   "source": [
    "xgb_pred = np.expm1(model_xgb.predict(spilit.values))\n",
    "lgb_pred = np.expm1(model_lgb.predict(spilit.values))\n",
    "ensemble = lgb_pred*0.4 + xgb_pred*0.6"
   ]
  },
  {
   "cell_type": "code",
   "execution_count": 81,
   "metadata": {},
   "outputs": [
    {
     "name": "stdout",
     "output_type": "stream",
     "text": [
      "RMSE is :  14162393.299431868\n",
      "R Squared is :  -0.10364078201813309\n"
     ]
    }
   ],
   "source": [
    "#RMSE\n",
    "print ('RMSE is : ',np.sqrt(mean_squared_error(RealPriceValue,ensemble)))\n",
    "#R Squared\n",
    "print ('R Squared is : ',1- mean_squared_error(RealPriceValue,ensemble)/ np.var(RealPriceValue))"
   ]
  },
  {
   "cell_type": "code",
   "execution_count": 82,
   "metadata": {},
   "outputs": [
    {
     "data": {
      "text/plain": [
       "<Figure size 2160x720 with 0 Axes>"
      ]
     },
     "metadata": {},
     "output_type": "display_data"
    },
    {
     "data": {
      "image/png": "[encoded data removed]",
      "text/plain": [
       "<Figure size 432x288 with 1 Axes>"
      ]
     },
     "metadata": {
      "needs_background": "light"
     },
     "output_type": "display_data"
    }
   ],
   "source": [
    "index=[]\n",
    "for i in range(ensemble.size):\n",
    "    index.append(i)\n",
    "    \n",
    "plt.figure(figsize =(30,10))\n",
    "fig,ax = plt.subplots()\n",
    "ax.scatter(x = index, y = RealPriceValue[:ensemble.size])\n",
    "plt.xlabel('RealPriceValue index', fontweight = \"bold\")               \n",
    "plt.ylabel(\"RealPriceValue \", fontweight = \"bold\")\n",
    "\n",
    "\n",
    "plt.scatter(index,RealPriceValue[:ensemble.size])\n",
    "plt.draw()"
   ]
  },
  {
   "cell_type": "code",
   "execution_count": 83,
   "metadata": {},
   "outputs": [
    {
     "data": {
      "text/plain": [
       "<Figure size 2160x720 with 0 Axes>"
      ]
     },
     "metadata": {},
     "output_type": "display_data"
    },
    {
     "data": {
      "image/png": "[encoded data removed]",
      "text/plain": [
       "<Figure size 432x288 with 1 Axes>"
      ]
     },
     "metadata": {
      "needs_background": "light"
     },
     "output_type": "display_data"
    }
   ],
   "source": [
    "plt.figure(figsize =(30,10))\n",
    "fig,ax = plt.subplots()\n",
    "ax.scatter(x = index, y = ensemble)\n",
    "plt.xlabel('PredictValue index', fontweight = \"bold\")               \n",
    "plt.ylabel(\"PredictValue \", fontweight = \"bold\")\n",
    "\n",
    "plt.scatter(index,ensemble)\n",
    "plt.draw()"
   ]
  },
  {
   "cell_type": "code",
   "execution_count": 84,
   "metadata": {},
   "outputs": [
    {
     "data": {
      "text/plain": [
       "273871986.3753284"
      ]
     },
     "execution_count": 84,
     "metadata": {},
     "output_type": "execute_result"
    }
   ],
   "source": [
    "ensemble.max()"
   ]
  },
  {
   "cell_type": "code",
   "execution_count": 85,
   "metadata": {},
   "outputs": [
    {
     "data": {
      "text/plain": [
       "1177609.389810032"
      ]
     },
     "execution_count": 85,
     "metadata": {},
     "output_type": "execute_result"
    }
   ],
   "source": [
    "ensemble.min()"
   ]
  },
  {
   "cell_type": "code",
   "execution_count": 86,
   "metadata": {},
   "outputs": [
    {
     "data": {
      "text/plain": [
       "20443972.105565675"
      ]
     },
     "execution_count": 86,
     "metadata": {},
     "output_type": "execute_result"
    }
   ],
   "source": [
    "ensemble.mean()"
   ]
  }
 ],
 "metadata": {
  "kernelspec": {
   "display_name": "Python 3",
   "language": "python",
   "name": "python3"
  },
  "language_info": {
   "codemirror_mode": {
    "name": "ipython",
    "version": 3
   },
   "file_extension": ".py",
   "mimetype": "text/x-python",
   "name": "python",
   "nbconvert_exporter": "python",
   "pygments_lexer": "ipython3",
   "version": "3.8.5"
  }
 },
 "nbformat": 4,
 "nbformat_minor": 4
}
